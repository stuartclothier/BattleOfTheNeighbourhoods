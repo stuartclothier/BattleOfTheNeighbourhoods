{
 "cells": [
  {
   "cell_type": "markdown",
   "id": "occupational-cleanup",
   "metadata": {},
   "source": [
    "This Notebook contains attempts to use the geopy client to search for geographical coordinates for Toronto Neighbourhoods. This has been fruitless so far but further investigation may be worthwhile"
   ]
  },
  {
   "cell_type": "markdown",
   "id": "subjective-assessment",
   "metadata": {},
   "source": [
    "# Clustering Toronto Neighbourhoods"
   ]
  },
  {
   "cell_type": "markdown",
   "id": "governmental-painting",
   "metadata": {},
   "source": [
    "## Load libraries"
   ]
  },
  {
   "cell_type": "code",
   "execution_count": 1,
   "id": "legal-cargo",
   "metadata": {},
   "outputs": [],
   "source": [
    "import pandas as pd"
   ]
  },
  {
   "cell_type": "markdown",
   "id": "reliable-salon",
   "metadata": {},
   "source": [
    "## Data Exctraction and Cleaning"
   ]
  },
  {
   "cell_type": "markdown",
   "id": "humanitarian-warner",
   "metadata": {},
   "source": [
    "Toronto neighbourhood information was extractred from [Wikipedia](https://en.wikipedia.org/wiki/List_of_postal_codes_of_Canada:_M) directly using the pandas read_html funtion."
   ]
  },
  {
   "cell_type": "code",
   "execution_count": 2,
   "id": "australian-privilege",
   "metadata": {},
   "outputs": [
    {
     "data": {
      "text/html": [
       "<div>\n",
       "<style scoped>\n",
       "    .dataframe tbody tr th:only-of-type {\n",
       "        vertical-align: middle;\n",
       "    }\n",
       "\n",
       "    .dataframe tbody tr th {\n",
       "        vertical-align: top;\n",
       "    }\n",
       "\n",
       "    .dataframe thead th {\n",
       "        text-align: right;\n",
       "    }\n",
       "</style>\n",
       "<table border=\"1\" class=\"dataframe\">\n",
       "  <thead>\n",
       "    <tr style=\"text-align: right;\">\n",
       "      <th></th>\n",
       "      <th>Postal Code</th>\n",
       "      <th>Borough</th>\n",
       "      <th>Neighbourhood</th>\n",
       "    </tr>\n",
       "  </thead>\n",
       "  <tbody>\n",
       "    <tr>\n",
       "      <th>0</th>\n",
       "      <td>M3A</td>\n",
       "      <td>North York</td>\n",
       "      <td>Parkwoods</td>\n",
       "    </tr>\n",
       "    <tr>\n",
       "      <th>1</th>\n",
       "      <td>M4A</td>\n",
       "      <td>North York</td>\n",
       "      <td>Victoria Village</td>\n",
       "    </tr>\n",
       "    <tr>\n",
       "      <th>2</th>\n",
       "      <td>M5A</td>\n",
       "      <td>Downtown Toronto</td>\n",
       "      <td>Regent Park, Harbourfront</td>\n",
       "    </tr>\n",
       "    <tr>\n",
       "      <th>3</th>\n",
       "      <td>M6A</td>\n",
       "      <td>North York</td>\n",
       "      <td>Lawrence Manor, Lawrence Heights</td>\n",
       "    </tr>\n",
       "    <tr>\n",
       "      <th>4</th>\n",
       "      <td>M7A</td>\n",
       "      <td>Downtown Toronto</td>\n",
       "      <td>Queen's Park, Ontario Provincial Government</td>\n",
       "    </tr>\n",
       "  </tbody>\n",
       "</table>\n",
       "</div>"
      ],
      "text/plain": [
       "  Postal Code           Borough                                Neighbourhood\n",
       "0         M3A        North York                                    Parkwoods\n",
       "1         M4A        North York                             Victoria Village\n",
       "2         M5A  Downtown Toronto                    Regent Park, Harbourfront\n",
       "3         M6A        North York             Lawrence Manor, Lawrence Heights\n",
       "4         M7A  Downtown Toronto  Queen's Park, Ontario Provincial Government"
      ]
     },
     "execution_count": 2,
     "metadata": {},
     "output_type": "execute_result"
    }
   ],
   "source": [
    "# Extract table from wikipedia using Pandas\n",
    "table_df = pd.read_html('https://en.wikipedia.org/wiki/List_of_postal_codes_of_Canada:_M')[0]\n",
    "\n",
    "# Remove unassigned boroughs\n",
    "table_df = table_df[table_df.Borough != 'Not assigned'].reset_index(drop=True)\n",
    "\n",
    "table_df.head()"
   ]
  },
  {
   "cell_type": "markdown",
   "id": "resident-clark",
   "metadata": {},
   "source": [
    "Above we can see, we have the correct columns and the first 5 rows of the data frame look correct. "
   ]
  },
  {
   "cell_type": "markdown",
   "id": "shaped-clearance",
   "metadata": {},
   "source": [
    "## Data checking and verifying"
   ]
  },
  {
   "cell_type": "markdown",
   "id": "golden-fabric",
   "metadata": {},
   "source": [
    "The DataFrame was checked to make sure no post codes were shared and that all had neighbourhood(s) assigned. Finally the shape of the Dataframe was shown. "
   ]
  },
  {
   "cell_type": "code",
   "execution_count": 3,
   "id": "still-doctrine",
   "metadata": {},
   "outputs": [
    {
     "data": {
      "text/plain": [
       "1    103\n",
       "Name: Postal Code, dtype: int64"
      ]
     },
     "execution_count": 3,
     "metadata": {},
     "output_type": "execute_result"
    }
   ],
   "source": [
    "table_df['Postal Code'].value_counts().value_counts()"
   ]
  },
  {
   "cell_type": "markdown",
   "id": "weird-hampton",
   "metadata": {},
   "source": [
    "Here we can see we have 103 distinct Postal Codes."
   ]
  },
  {
   "cell_type": "code",
   "execution_count": 4,
   "id": "combined-fence",
   "metadata": {},
   "outputs": [
    {
     "data": {
      "text/plain": [
       "103"
      ]
     },
     "execution_count": 4,
     "metadata": {},
     "output_type": "execute_result"
    }
   ],
   "source": [
    "len(table_df[table_df.Neighbourhood != 'Not assigned'])"
   ]
  },
  {
   "cell_type": "markdown",
   "id": "cardiac-astronomy",
   "metadata": {},
   "source": [
    "Here we can see we have 103 distinct postcodes with neighbourhood(s) assigned."
   ]
  },
  {
   "cell_type": "code",
   "execution_count": 5,
   "id": "final-lemon",
   "metadata": {},
   "outputs": [
    {
     "data": {
      "text/plain": [
       "(103, 3)"
      ]
     },
     "execution_count": 5,
     "metadata": {},
     "output_type": "execute_result"
    }
   ],
   "source": [
    "table_df.shape"
   ]
  },
  {
   "cell_type": "markdown",
   "id": "rational-means",
   "metadata": {},
   "source": [
    "Our dataframe has 103 rows and 3 columns. From above we can deduce that there are no duplicate post codes in the table, nor do any post codes have no assigned neighbourhood(s)"
   ]
  },
  {
   "cell_type": "markdown",
   "id": "blank-shore",
   "metadata": {},
   "source": [
    "### Adding latitude and the longitude coordinates"
   ]
  },
  {
   "cell_type": "markdown",
   "id": "secure-bulgaria",
   "metadata": {},
   "source": [
    "My Attempt at geolocating latitude and the longitude coordinates using geopy. This is mostly built on trial and error as some locations could not be found. Latitude and longitude for M7R are from the geospatial csv as geopy couldn't find it using any method."
   ]
  },
  {
   "cell_type": "code",
   "execution_count": 6,
   "id": "royal-homework",
   "metadata": {},
   "outputs": [
    {
     "ename": "AttributeError",
     "evalue": "'Series' object has no attribute 'split'",
     "output_type": "error",
     "traceback": [
      "\u001b[1;31m---------------------------------------------------------------------------\u001b[0m",
      "\u001b[1;31mAttributeError\u001b[0m                            Traceback (most recent call last)",
      "\u001b[1;32m<ipython-input-6-21152211bddf>\u001b[0m in \u001b[0;36m<module>\u001b[1;34m\u001b[0m\n\u001b[0;32m      6\u001b[0m \u001b[0mgeocode\u001b[0m \u001b[1;33m=\u001b[0m \u001b[0mRateLimiter\u001b[0m\u001b[1;33m(\u001b[0m\u001b[0mgeolocator\u001b[0m\u001b[1;33m.\u001b[0m\u001b[0mgeocode\u001b[0m\u001b[1;33m,\u001b[0m \u001b[0mmin_delay_seconds\u001b[0m\u001b[1;33m=\u001b[0m\u001b[1;36m1\u001b[0m\u001b[1;33m)\u001b[0m\u001b[1;33m\u001b[0m\u001b[1;33m\u001b[0m\u001b[0m\n\u001b[0;32m      7\u001b[0m \u001b[1;33m\u001b[0m\u001b[0m\n\u001b[1;32m----> 8\u001b[1;33m \u001b[0mtable_df\u001b[0m\u001b[1;33m[\u001b[0m\u001b[1;34m'location'\u001b[0m\u001b[1;33m]\u001b[0m \u001b[1;33m=\u001b[0m \u001b[0mtable_df\u001b[0m\u001b[1;33m.\u001b[0m\u001b[0mNeighbourhood\u001b[0m\u001b[1;33m.\u001b[0m\u001b[0msplit\u001b[0m\u001b[1;33m(\u001b[0m\u001b[1;34m','\u001b[0m\u001b[1;33m)\u001b[0m\u001b[1;33m[\u001b[0m\u001b[1;36m0\u001b[0m\u001b[1;33m]\u001b[0m\u001b[1;33m.\u001b[0m\u001b[0msplit\u001b[0m\u001b[1;33m(\u001b[0m\u001b[1;34m'-'\u001b[0m\u001b[1;33m)\u001b[0m\u001b[1;33m[\u001b[0m\u001b[1;36m0\u001b[0m\u001b[1;33m]\u001b[0m\u001b[1;33m.\u001b[0m\u001b[0mapply\u001b[0m\u001b[1;33m(\u001b[0m\u001b[0mgeocode\u001b[0m\u001b[1;33m)\u001b[0m\u001b[1;33m\u001b[0m\u001b[1;33m\u001b[0m\u001b[0m\n\u001b[0m",
      "\u001b[1;32m~\\.julia\\conda\\3\\lib\\site-packages\\pandas\\core\\generic.py\u001b[0m in \u001b[0;36m__getattr__\u001b[1;34m(self, name)\u001b[0m\n\u001b[0;32m   5460\u001b[0m             \u001b[1;32mif\u001b[0m \u001b[0mself\u001b[0m\u001b[1;33m.\u001b[0m\u001b[0m_info_axis\u001b[0m\u001b[1;33m.\u001b[0m\u001b[0m_can_hold_identifiers_and_holds_name\u001b[0m\u001b[1;33m(\u001b[0m\u001b[0mname\u001b[0m\u001b[1;33m)\u001b[0m\u001b[1;33m:\u001b[0m\u001b[1;33m\u001b[0m\u001b[1;33m\u001b[0m\u001b[0m\n\u001b[0;32m   5461\u001b[0m                 \u001b[1;32mreturn\u001b[0m \u001b[0mself\u001b[0m\u001b[1;33m[\u001b[0m\u001b[0mname\u001b[0m\u001b[1;33m]\u001b[0m\u001b[1;33m\u001b[0m\u001b[1;33m\u001b[0m\u001b[0m\n\u001b[1;32m-> 5462\u001b[1;33m             \u001b[1;32mreturn\u001b[0m \u001b[0mobject\u001b[0m\u001b[1;33m.\u001b[0m\u001b[0m__getattribute__\u001b[0m\u001b[1;33m(\u001b[0m\u001b[0mself\u001b[0m\u001b[1;33m,\u001b[0m \u001b[0mname\u001b[0m\u001b[1;33m)\u001b[0m\u001b[1;33m\u001b[0m\u001b[1;33m\u001b[0m\u001b[0m\n\u001b[0m\u001b[0;32m   5463\u001b[0m \u001b[1;33m\u001b[0m\u001b[0m\n\u001b[0;32m   5464\u001b[0m     \u001b[1;32mdef\u001b[0m \u001b[0m__setattr__\u001b[0m\u001b[1;33m(\u001b[0m\u001b[0mself\u001b[0m\u001b[1;33m,\u001b[0m \u001b[0mname\u001b[0m\u001b[1;33m:\u001b[0m \u001b[0mstr\u001b[0m\u001b[1;33m,\u001b[0m \u001b[0mvalue\u001b[0m\u001b[1;33m)\u001b[0m \u001b[1;33m->\u001b[0m \u001b[1;32mNone\u001b[0m\u001b[1;33m:\u001b[0m\u001b[1;33m\u001b[0m\u001b[1;33m\u001b[0m\u001b[0m\n",
      "\u001b[1;31mAttributeError\u001b[0m: 'Series' object has no attribute 'split'"
     ]
    }
   ],
   "source": [
    "from geopy.geocoders import Nominatim\n",
    "\n",
    "geolocator = Nominatim(user_agent=\"aaa\")\n",
    "\n",
    "from geopy.extra.rate_limiter import RateLimiter\n",
    "geocode = RateLimiter(geolocator.geocode, min_delay_seconds=1)\n",
    "\n",
    "table_df['location'] = table_df.Neighbourhood.split(',')[0].split('-')[0].apply(geocode)"
   ]
  },
  {
   "cell_type": "code",
   "execution_count": null,
   "id": "agricultural-reflection",
   "metadata": {},
   "outputs": [],
   "source": [
    "table_df"
   ]
  },
  {
   "cell_type": "code",
   "execution_count": null,
   "id": "mobile-parish",
   "metadata": {},
   "outputs": [],
   "source": [
    "table_df.iloc[76]#.split(',')[0].split('-')[0]"
   ]
  },
  {
   "cell_type": "code",
   "execution_count": null,
   "id": "collaborative-richards",
   "metadata": {},
   "outputs": [],
   "source": [
    "location = geolocator.geocode('M7R, Toronto, Ontario')\n",
    "# print(location.latitude, location.longitude)\n",
    "location"
   ]
  },
  {
   "cell_type": "code",
   "execution_count": null,
   "id": "committed-prior",
   "metadata": {},
   "outputs": [],
   "source": [
    "lat = []\n",
    "\n",
    "for PC in table_df.Neighbourhood:\n",
    "    try:\n",
    "        lat.append(geolocator.geocode('{}, Toronto, Ontario'.format(PC.split(',')[0].split('-')[0])).latitude)\n",
    "        print(PC)\n",
    "\n",
    "    except AttributeError:\n",
    "        lat.append(geolocator.geocode('{}, Toronto, Ontario'.format(PC.split(',')[1].split('-')[0])).latitude)\n",
    "        print(PC, 'xysssssssssssssssssssssssssssssssssssssssssss')\n",
    "    except IndexError:\n",
    "        lat.append(43.6369656)\n",
    "\n",
    "        \n",
    "# lat = [geolocator.geocode('{}, Toronto, Ontario'.format(PC.split(',')[0].split('-')[0])).latitude for PC in table_df.Neighbourhood]\n",
    "# lon"
   ]
  },
  {
   "cell_type": "code",
   "execution_count": null,
   "id": "welcome-architect",
   "metadata": {},
   "outputs": [],
   "source": [
    "lat"
   ]
  },
  {
   "cell_type": "code",
   "execution_count": null,
   "id": "contained-kingdom",
   "metadata": {},
   "outputs": [],
   "source": [
    "lat = ['{}, Toronto, Ontario'.format(PC) for PC in table_df['Postal Code']]\n",
    "lat = [geolocator.geocode('{}, Toronto, Ontario'.format(PC.split(',')[0].split('-')[0])).latitude for PC in table_df.Neighbourhood]"
   ]
  },
  {
   "cell_type": "markdown",
   "id": "iraqi-calculation",
   "metadata": {},
   "source": [
    "Using csv provided"
   ]
  },
  {
   "cell_type": "code",
   "execution_count": null,
   "id": "olympic-confidence",
   "metadata": {},
   "outputs": [],
   "source": [
    "GC = pd.read_csv('Geospatial_Coordinates.csv')\n",
    "len(GC)"
   ]
  },
  {
   "cell_type": "code",
   "execution_count": null,
   "id": "lucky-orange",
   "metadata": {},
   "outputs": [],
   "source": []
  }
 ],
 "metadata": {
  "kernelspec": {
   "display_name": "Python 3",
   "language": "python",
   "name": "python3"
  },
  "language_info": {
   "codemirror_mode": {
    "name": "ipython",
    "version": 3
   },
   "file_extension": ".py",
   "mimetype": "text/x-python",
   "name": "python",
   "nbconvert_exporter": "python",
   "pygments_lexer": "ipython3",
   "version": "3.8.5"
  }
 },
 "nbformat": 4,
 "nbformat_minor": 5
}
