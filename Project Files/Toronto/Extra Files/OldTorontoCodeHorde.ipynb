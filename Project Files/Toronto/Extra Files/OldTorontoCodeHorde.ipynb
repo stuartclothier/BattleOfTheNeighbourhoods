{
 "cells": [
  {
   "cell_type": "code",
   "execution_count": 383,
   "id": "popular-detective",
   "metadata": {},
   "outputs": [
    {
     "data": {
      "text/plain": [
       "['Arts & Entertainment',\n",
       " 'College & University',\n",
       " 'Event',\n",
       " 'Food',\n",
       " 'Nightlife Spot',\n",
       " 'Outdoors & Recreation',\n",
       " 'Professional & Other Places',\n",
       " 'Residence',\n",
       " 'Shop & Service',\n",
       " 'Travel & Transport']"
      ]
     },
     "execution_count": 383,
     "metadata": {},
     "output_type": "execute_result"
    }
   ],
   "source": [
    "cols = [each['name'] for each in cat_list]\n",
    "cols"
   ]
  },
  {
   "cell_type": "markdown",
   "id": "ranging-vancouver",
   "metadata": {},
   "source": [
    "The total number of each venue category:"
   ]
  },
  {
   "cell_type": "code",
   "execution_count": 186,
   "id": "average-colleague",
   "metadata": {},
   "outputs": [
    {
     "data": {
      "text/plain": [
       "Arts & Entertainment            204\n",
       "College & University              9\n",
       "Food                           1711\n",
       "Nightlife Spot                  218\n",
       "Outdoors & Recreation           340\n",
       "Professional & Other Places      38\n",
       "Residence                         1\n",
       "Shop & Service                  551\n",
       "Travel & Transport              116\n",
       "dtype: object"
      ]
     },
     "execution_count": 186,
     "metadata": {},
     "output_type": "execute_result"
    }
   ],
   "source": [
    "toronto_venues.sum()[1:]"
   ]
  },
  {
   "cell_type": "markdown",
   "id": "banned-dinner",
   "metadata": {},
   "source": [
    "We can check the number of venues in each Neighbourhood. Note this is currently supressed due to the length of the output."
   ]
  },
  {
   "cell_type": "code",
   "execution_count": 213,
   "id": "opposed-montgomery",
   "metadata": {},
   "outputs": [],
   "source": [
    "# pd.DataFrame([toronto_venues.Neighbourhood, toronto_venues.sum(axis=1)],\n",
    "#              index = ['Neighbourhood','Venues']).T.sort_values(\n",
    "#                 by = 'Venues', ascending = False)"
   ]
  },
  {
   "cell_type": "markdown",
   "id": "virtual-thesaurus",
   "metadata": {},
   "source": [
    "We can check the number of each venue category for a specific Neighbourhood (or Neighbourhoods)"
   ]
  },
  {
   "cell_type": "code",
   "execution_count": 214,
   "id": "surgical-china",
   "metadata": {},
   "outputs": [
    {
     "data": {
      "text/html": [
       "<div>\n",
       "<style scoped>\n",
       "    .dataframe tbody tr th:only-of-type {\n",
       "        vertical-align: middle;\n",
       "    }\n",
       "\n",
       "    .dataframe tbody tr th {\n",
       "        vertical-align: top;\n",
       "    }\n",
       "\n",
       "    .dataframe thead th {\n",
       "        text-align: right;\n",
       "    }\n",
       "</style>\n",
       "<table border=\"1\" class=\"dataframe\">\n",
       "  <thead>\n",
       "    <tr style=\"text-align: right;\">\n",
       "      <th></th>\n",
       "      <th>Neighbourhood</th>\n",
       "      <th>Arts &amp; Entertainment</th>\n",
       "      <th>College &amp; University</th>\n",
       "      <th>Food</th>\n",
       "      <th>Nightlife Spot</th>\n",
       "      <th>Outdoors &amp; Recreation</th>\n",
       "      <th>Professional &amp; Other Places</th>\n",
       "      <th>Residence</th>\n",
       "      <th>Shop &amp; Service</th>\n",
       "      <th>Travel &amp; Transport</th>\n",
       "    </tr>\n",
       "  </thead>\n",
       "  <tbody>\n",
       "    <tr>\n",
       "      <th>18</th>\n",
       "      <td>Lawrence Park</td>\n",
       "      <td>0</td>\n",
       "      <td>2</td>\n",
       "      <td>2</td>\n",
       "      <td>0</td>\n",
       "      <td>3</td>\n",
       "      <td>0</td>\n",
       "      <td>0</td>\n",
       "      <td>1</td>\n",
       "      <td>0</td>\n",
       "    </tr>\n",
       "  </tbody>\n",
       "</table>\n",
       "</div>"
      ],
      "text/plain": [
       "    Neighbourhood  Arts & Entertainment  College & University  Food  \\\n",
       "18  Lawrence Park                     0                     2     2   \n",
       "\n",
       "    Nightlife Spot  Outdoors & Recreation  Professional & Other Places  \\\n",
       "18               0                      3                            0   \n",
       "\n",
       "    Residence  Shop & Service  Travel & Transport  \n",
       "18          0               1                   0  "
      ]
     },
     "execution_count": 214,
     "metadata": {},
     "output_type": "execute_result"
    }
   ],
   "source": [
    "toronto_venues.loc[toronto_venues.Neighbourhood == 'Lawrence Park']"
   ]
  },
  {
   "cell_type": "markdown",
   "id": "adaptive-noise",
   "metadata": {},
   "source": [
    "As we can see here, most Neighbourhoods have 100 venues within 1 km. However, some areas have considerably less local venues."
   ]
  },
  {
   "cell_type": "markdown",
   "id": "linear-eugene",
   "metadata": {},
   "source": [
    "## Top 5 venue categories - IS this still in use?"
   ]
  },
  {
   "cell_type": "code",
   "execution_count": 4,
   "id": "spread-aruba",
   "metadata": {},
   "outputs": [],
   "source": [
    "def getNearbyVenues(names, latitudes, longitudes, radius):\n",
    "    '''This function uses the Foursquare API to search for venues in a given radius \n",
    "    around a neighbourhoods latitude and longitude.\n",
    "    \n",
    "    It returns a pandas dataframe with columns: Neigbourhood Name, \n",
    "    Neighbourhood Latitude, Neighbourhood Longitude, Venue Name, Venue Latitude,\n",
    "    Venue Longitude and Venue Category.\n",
    "    '''\n",
    "    \n",
    "    venues_list=[]\n",
    "    for name, lat, lng in zip(names, latitudes, longitudes):\n",
    "            \n",
    "        # create the API request URL\n",
    "        url = 'https://api.foursquare.com/v2/venues/explore?&client_id={}&client_secret={} \\\n",
    "        &v={}&ll={},{}&limit={}&radius={}&sortByPopularity=1'.format(\n",
    "            CLIENT_ID, \n",
    "            CLIENT_SECRET, \n",
    "            VERSION, \n",
    "            lat, \n",
    "            lng,\n",
    "            LIMIT,\n",
    "            radius\n",
    "            )\n",
    "            \n",
    "        # make the GET request\n",
    "        results = requests.get(url).json()[\"response\"]['groups'][0]['items']\n",
    "        \n",
    "        # return only relevant information for each nearby venue\n",
    "        venues_list.append([(\n",
    "            name, \n",
    "            lat, \n",
    "            lng, \n",
    "            v['venue']['name'], \n",
    "            v['venue']['location']['lat'], \n",
    "            v['venue']['location']['lng'],\n",
    "            v['venue']['categories'][0]['name'],\n",
    "            getParentCat(cat_list, v['venue']['categories'][0]['name'])) for v in results])\n",
    "\n",
    "    nearby_venues = pd.DataFrame([item for venue_list in venues_list for item in venue_list])\n",
    "    nearby_venues.columns = ['Neighbourhood', \n",
    "                  'Neighbourhood Latitude', \n",
    "                  'Neighbourhood Longitude', \n",
    "                  'Venue', \n",
    "                  'Venue Latitude', \n",
    "                  'Venue Longitude',\n",
    "                  'Venue Category',\n",
    "                  'Parent Category']\n",
    "    \n",
    "    return(nearby_venues)"
   ]
  },
  {
   "cell_type": "code",
   "execution_count": 208,
   "id": "external-tractor",
   "metadata": {},
   "outputs": [],
   "source": [
    "# Is this still in use?\n",
    "top = toronto_venue_cats.set_index('Neighbourhood').T\n",
    "top_dict = {n:top[n].sort_values(ascending=False)[0:20] for n in top}"
   ]
  },
  {
   "cell_type": "code",
   "execution_count": 211,
   "id": "flush-treaty",
   "metadata": {},
   "outputs": [],
   "source": [
    "# Unashamedly lazy printing:\n",
    "\n",
    "# The ouput here is really long so is commented out temporarily\n",
    "\n",
    "# for n in clusters:\n",
    "#     print('Cluster',n,':\\n')\n",
    "#     for m in clusters[n]:\n",
    "#         print(m,':\\n')\n",
    "#         for i in range(5):\n",
    "#             print(top_dict[m].index[i], top_dict[m].values[i])\n",
    "#         print('\\n')"
   ]
  },
  {
   "cell_type": "markdown",
   "id": "decreased-delta",
   "metadata": {},
   "source": [
    "# As we can see above, clusters 1, 2 and 3 share very similar venue categories"
   ]
  },
  {
   "cell_type": "code",
   "execution_count": 276,
   "id": "micro-thanks",
   "metadata": {},
   "outputs": [
    {
     "data": {
      "text/plain": [
       "['Davisville North',\n",
       " 'Dufferin, Dovercourt Village',\n",
       " 'Forest Hill North & West, Forest Hill Road Park',\n",
       " 'India Bazaar, The Beaches West',\n",
       " 'Moore Park, Summerhill East',\n",
       " 'Runnymede, Swansea',\n",
       " 'Summerhill West, Rathnelly, South Hill, Forest Hill SE, Deer Park',\n",
       " 'The Beaches']"
      ]
     },
     "execution_count": 276,
     "metadata": {},
     "output_type": "execute_result"
    }
   ],
   "source": [
    "clusters[2]"
   ]
  },
  {
   "cell_type": "code",
   "execution_count": 275,
   "id": "demanding-wildlife",
   "metadata": {},
   "outputs": [
    {
     "data": {
      "text/plain": [
       "[100, 68, 50, 76, 58, 73, 78, 77]"
      ]
     },
     "execution_count": 275,
     "metadata": {},
     "output_type": "execute_result"
    }
   ],
   "source": [
    "[top_dict[n].values.sum()for n in clusters[2]]"
   ]
  },
  {
   "cell_type": "code",
   "execution_count": 279,
   "id": "detected-combination",
   "metadata": {},
   "outputs": [
    {
     "data": {
      "text/plain": [
       "[Food                           51\n",
       " Shop & Service                 14\n",
       " Outdoors & Recreation          12\n",
       " Nightlife Spot                  9\n",
       " Travel & Transport              7\n",
       " Arts & Entertainment            6\n",
       " Professional & Other Places     1\n",
       " College & University            0\n",
       " Name: Berczy Park, dtype: uint8,\n",
       " Food                           46\n",
       " Arts & Entertainment           15\n",
       " Shop & Service                 14\n",
       " Outdoors & Recreation           9\n",
       " Travel & Transport              9\n",
       " Nightlife Spot                  6\n",
       " Professional & Other Places     1\n",
       " College & University            0\n",
       " Name: Commerce Court, Victoria Hotel, dtype: uint8,\n",
       " Food                           46\n",
       " Arts & Entertainment           16\n",
       " Shop & Service                 13\n",
       " Travel & Transport             10\n",
       " Outdoors & Recreation           9\n",
       " Nightlife Spot                  5\n",
       " Professional & Other Places     1\n",
       " College & University            0\n",
       " Name: First Canadian Place, Underground city, dtype: uint8,\n",
       " Food                           44\n",
       " Outdoors & Recreation          17\n",
       " Arts & Entertainment           13\n",
       " Travel & Transport             10\n",
       " Nightlife Spot                  8\n",
       " Shop & Service                  6\n",
       " Professional & Other Places     2\n",
       " College & University            0\n",
       " Name: Harbourfront East, Union Station, Toronto Islands, dtype: uint8,\n",
       " Food                           49\n",
       " Arts & Entertainment           14\n",
       " Shop & Service                 11\n",
       " Outdoors & Recreation          10\n",
       " Travel & Transport              9\n",
       " Nightlife Spot                  6\n",
       " Professional & Other Places     1\n",
       " College & University            0\n",
       " Name: Richmond, Adelaide, King, dtype: uint8,\n",
       " Food                           43\n",
       " Shop & Service                 16\n",
       " Outdoors & Recreation          12\n",
       " Arts & Entertainment            9\n",
       " Nightlife Spot                  9\n",
       " Travel & Transport              9\n",
       " Professional & Other Places     2\n",
       " College & University            0\n",
       " Name: Stn A PO Boxes, dtype: uint8,\n",
       " Food                           42\n",
       " Arts & Entertainment           16\n",
       " Shop & Service                 13\n",
       " Travel & Transport             12\n",
       " Outdoors & Recreation          11\n",
       " Nightlife Spot                  5\n",
       " Professional & Other Places     1\n",
       " College & University            0\n",
       " Name: Toronto Dominion Centre, Design Exchange, dtype: uint8]"
      ]
     },
     "execution_count": 279,
     "metadata": {},
     "output_type": "execute_result"
    }
   ],
   "source": [
    "[top_dict[n] for n in clusters[3]]"
   ]
  },
  {
   "cell_type": "code",
   "execution_count": 248,
   "id": "searching-particular",
   "metadata": {},
   "outputs": [
    {
     "data": {
      "text/plain": [
       "34"
      ]
     },
     "execution_count": 248,
     "metadata": {},
     "output_type": "execute_result"
    }
   ],
   "source": [
    "top_dict['St. James Town, Cabbagetown'].values.sum()"
   ]
  },
  {
   "cell_type": "code",
   "execution_count": 249,
   "id": "simplified-maryland",
   "metadata": {},
   "outputs": [
    {
     "data": {
      "text/plain": [
       "Food                           22\n",
       "Outdoors & Recreation           5\n",
       "Arts & Entertainment            3\n",
       "Shop & Service                  3\n",
       "Nightlife Spot                  1\n",
       "College & University            0\n",
       "Professional & Other Places     0\n",
       "Travel & Transport              0\n",
       "Name: St. James Town, Cabbagetown, dtype: uint8"
      ]
     },
     "execution_count": 249,
     "metadata": {},
     "output_type": "execute_result"
    }
   ],
   "source": [
    "top_dict['St. James Town, Cabbagetown']"
   ]
  },
  {
   "cell_type": "code",
   "execution_count": 245,
   "id": "unexpected-thanksgiving",
   "metadata": {},
   "outputs": [
    {
     "data": {
      "text/plain": [
       "77"
      ]
     },
     "execution_count": 245,
     "metadata": {},
     "output_type": "execute_result"
    }
   ],
   "source": [
    "top_dict['The Beaches'].values.sum()"
   ]
  },
  {
   "cell_type": "code",
   "execution_count": 247,
   "id": "accessible-capital",
   "metadata": {},
   "outputs": [
    {
     "data": {
      "text/plain": [
       "Food                           43\n",
       "Shop & Service                 17\n",
       "Outdoors & Recreation           9\n",
       "Nightlife Spot                  7\n",
       "Arts & Entertainment            1\n",
       "College & University            0\n",
       "Professional & Other Places     0\n",
       "Travel & Transport              0\n",
       "Name: The Beaches, dtype: uint8"
      ]
     },
     "execution_count": 247,
     "metadata": {},
     "output_type": "execute_result"
    }
   ],
   "source": [
    "top_dict['The Beaches']"
   ]
  },
  {
   "cell_type": "markdown",
   "id": "italian-dealer",
   "metadata": {},
   "source": [
    "# Find way to print list of cat_vals in C1 but not C2"
   ]
  },
  {
   "cell_type": "code",
   "execution_count": 31,
   "id": "statewide-thompson",
   "metadata": {},
   "outputs": [],
   "source": [
    "list1 = [venue_cat for venue_cat in top_dic['The Beaches'].keys() if venue_cat in list(test4['C1:_venue_cat'][0:20])]\n",
    "list2 = [venue_cat for venue_cat in top_dic['The Beaches'].keys() if venue_cat in list(test4['C2:_venue_cat'][0:20])]"
   ]
  },
  {
   "cell_type": "code",
   "execution_count": 32,
   "id": "overall-writing",
   "metadata": {},
   "outputs": [
    {
     "data": {
      "text/plain": [
       "array(['Bar', 'Breakfast Spot'], dtype='<U19')"
      ]
     },
     "execution_count": 32,
     "metadata": {},
     "output_type": "execute_result"
    }
   ],
   "source": [
    "diff = np.setdiff1d(list1,list2)\n",
    "diff"
   ]
  },
  {
   "cell_type": "markdown",
   "id": "ambient-sandwich",
   "metadata": {},
   "source": [
    "The fact that The Beaches has these types of venues is possibly why it is in Cluster 1"
   ]
  },
  {
   "cell_type": "code",
   "execution_count": 33,
   "id": "reliable-thong",
   "metadata": {},
   "outputs": [
    {
     "data": {
      "text/plain": [
       "array(['Bar', 'Breakfast Spot', 'Indian Restaurant', 'Mexican Restaurant',\n",
       "       'Vegetarian / Vegan Restaurant'], dtype='<U29')"
      ]
     },
     "execution_count": 33,
     "metadata": {},
     "output_type": "execute_result"
    }
   ],
   "source": [
    "list1 = list(test4['C1:_venue_cat'][0:20])\n",
    "list2 = list(test4['C2:_venue_cat'][0:20])\n",
    "list3 = list(test4['C3:_venue_cat'][0:20])\n",
    "diff = np.setdiff1d(list1,list2)\n",
    "diff"
   ]
  },
  {
   "cell_type": "code",
   "execution_count": 34,
   "id": "sweet-norwegian",
   "metadata": {},
   "outputs": [
    {
     "data": {
      "text/plain": [
       "array(['Bank', 'Gastropub', 'Gym', 'Liquor Store', 'Spa'], dtype='<U19')"
      ]
     },
     "execution_count": 34,
     "metadata": {},
     "output_type": "execute_result"
    }
   ],
   "source": [
    "diff = np.setdiff1d(list2,list1)\n",
    "diff"
   ]
  },
  {
   "cell_type": "code",
   "execution_count": 35,
   "id": "acquired-aspect",
   "metadata": {},
   "outputs": [
    {
     "data": {
      "text/plain": [
       "array(['Bakery', 'Bar', 'Diner', 'Indian Restaurant',\n",
       "       'Italian Restaurant', 'Mexican Restaurant', 'Pharmacy', 'Pub',\n",
       "       'Sandwich Place', 'Sushi Restaurant',\n",
       "       'Vegetarian / Vegan Restaurant'], dtype='<U29')"
      ]
     },
     "execution_count": 35,
     "metadata": {},
     "output_type": "execute_result"
    }
   ],
   "source": [
    "diff = np.setdiff1d(list1,list3)\n",
    "diff"
   ]
  },
  {
   "cell_type": "code",
   "execution_count": 36,
   "id": "competent-danish",
   "metadata": {},
   "outputs": [
    {
     "data": {
      "text/plain": [
       "array(['American Restaurant', 'Beer Bar', 'Clothing Store',\n",
       "       'Concert Hall', 'Deli / Bodega', 'Gastropub', 'Gym', 'Hotel',\n",
       "       'Plaza', 'Steakhouse', 'Theater'], dtype='<U19')"
      ]
     },
     "execution_count": 36,
     "metadata": {},
     "output_type": "execute_result"
    }
   ],
   "source": [
    "diff = np.setdiff1d(list3,list1)\n",
    "diff"
   ]
  },
  {
   "cell_type": "markdown",
   "id": "accessory-programmer",
   "metadata": {},
   "source": [
    "# Note on search radius"
   ]
  },
  {
   "cell_type": "markdown",
   "id": "reasonable-interaction",
   "metadata": {},
   "source": [
    "# Different search radii section"
   ]
  },
  {
   "cell_type": "markdown",
   "id": "tribal-guarantee",
   "metadata": {},
   "source": [
    "# Let's have alook at the top venue categories for the Brockton, Parkdale Village, Exhibition Place neighbourhood"
   ]
  },
  {
   "cell_type": "code",
   "execution_count": 39,
   "id": "unlimited-fence",
   "metadata": {},
   "outputs": [
    {
     "data": {
      "text/plain": [
       "Restaurant                0.07\n",
       "Coffee Shop               0.06\n",
       "Café                      0.05\n",
       "Bar                       0.05\n",
       "Furniture / Home Store    0.04\n",
       "Bakery                    0.03\n",
       "Italian Restaurant        0.02\n",
       "Indian Restaurant         0.02\n",
       "Pharmacy                  0.02\n",
       "Art Gallery               0.02\n",
       "Theater                   0.02\n",
       "Sandwich Place            0.02\n",
       "Park                      0.02\n",
       "Thrift / Vintage Store    0.02\n",
       "Tibetan Restaurant        0.02\n",
       "Smoothie Shop             0.01\n",
       "Grocery Store             0.01\n",
       "Soccer Stadium            0.01\n",
       "Falafel Restaurant        0.01\n",
       "Gym                       0.01\n",
       "Name: Brockton, Parkdale Village, Exhibition Place, dtype: float64"
      ]
     },
     "execution_count": 39,
     "metadata": {},
     "output_type": "execute_result"
    }
   ],
   "source": [
    "top_dic['Brockton, Parkdale Village, Exhibition Place']"
   ]
  },
  {
   "cell_type": "markdown",
   "id": "continent-soundtrack",
   "metadata": {
    "jupyter": {
     "source_hidden": true
    }
   },
   "source": []
  },
  {
   "cell_type": "code",
   "execution_count": null,
   "id": "instant-parcel",
   "metadata": {},
   "outputs": [],
   "source": []
  }
 ],
 "metadata": {
  "kernelspec": {
   "display_name": "Python 3",
   "language": "python",
   "name": "python3"
  },
  "language_info": {
   "codemirror_mode": {
    "name": "ipython",
    "version": 3
   },
   "file_extension": ".py",
   "mimetype": "text/x-python",
   "name": "python",
   "nbconvert_exporter": "python",
   "pygments_lexer": "ipython3",
   "version": "3.8.5"
  }
 },
 "nbformat": 4,
 "nbformat_minor": 5
}
