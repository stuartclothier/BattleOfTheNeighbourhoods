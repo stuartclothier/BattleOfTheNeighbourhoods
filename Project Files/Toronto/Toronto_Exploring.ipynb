{
 "cells": [
  {
   "cell_type": "markdown",
   "id": "great-collective",
   "metadata": {},
   "source": [
    "# Clustering Toronto Neighbourhoods\n",
    "#### Part 3: Exploring the Neighbourhoods\n",
    "\n",
    "What is the aim of this notebook?"
   ]
  },
  {
   "cell_type": "markdown",
   "id": "executed-makeup",
   "metadata": {},
   "source": [
    "## Load libraries"
   ]
  },
  {
   "cell_type": "code",
   "execution_count": null,
   "id": "alleged-management",
   "metadata": {},
   "outputs": [],
   "source": [
    "## Built in libraries\n",
    "import requests # HTTP requests\n",
    "\n",
    "# Third party libraries\n",
    "import numpy as np # arrays \n",
    "import pandas as pd # Data structures\n",
    "\n",
    "import folium # Visualising interactive maps\n",
    "\n",
    "import matplotlib.pyplot as plt # Plotting simple maps\n",
    "import matplotlib.cm as cm # Colourmaps\n",
    "import matplotlib.colors as colors # converting colours to RGB\n",
    "\n",
    "from sklearn.preprocessing import MinMaxScaler # Min Max Scaling for features\n",
    "\n",
    "from sklearn.cluster import KMeans # KMeans clustering model\n",
    "from sklearn.metrics import silhouette_score # silhoute score used for determining K "
   ]
  },
  {
   "cell_type": "markdown",
   "id": "divine-helen",
   "metadata": {},
   "source": [
    "## Load Datasets"
   ]
  },
  {
   "cell_type": "code",
   "execution_count": null,
   "id": "automatic-universe",
   "metadata": {},
   "outputs": [],
   "source": [
    "tor_boro = pd.read_csv('tor_boro.csv')\n",
    "toronto_venues = pd.read_csv('toronto_venues.csv')"
   ]
  },
  {
   "cell_type": "markdown",
   "id": "historical-ballot",
   "metadata": {},
   "source": [
    "## Exploring the Neighbourhoods\n",
    "\n",
    "Some exploration is done in the following cells."
   ]
  },
  {
   "cell_type": "markdown",
   "id": "freelance-russian",
   "metadata": {},
   "source": [
    "## Analysing Neighbourhoods\n",
    "\n",
    "Now that we have 39 Toronto neighbourhoods with a count of nearby venues, grouped by category, we can proceed to cluster the Neighbourhoods.\n",
    "\n",
    "First we scale the venue category counts."
   ]
  },
  {
   "cell_type": "code",
   "execution_count": null,
   "id": "whole-flower",
   "metadata": {},
   "outputs": [],
   "source": [
    "scaled_features = MinMaxScaler().fit_transform(toronto_venues[list(\n",
    "    toronto_venues.columns.values)[1:]])\n",
    "\n",
    "# Can view scaled data here if necessary\n",
    "scaled_df = pd.concat([pd.DataFrame(toronto_venues.Neighbourhood),\n",
    "                       pd.DataFrame(scaled_features, \n",
    "                       columns = list(toronto_venues.columns)[1:])],\n",
    "                       axis=1,\n",
    "                       )"
   ]
  },
  {
   "cell_type": "markdown",
   "id": "alert-passion",
   "metadata": {},
   "source": [
    "## K-Means Clustering"
   ]
  },
  {
   "cell_type": "markdown",
   "id": "fuzzy-butterfly",
   "metadata": {},
   "source": [
    "Explain what I am doing here.\n",
    "\n",
    "Firstly a quick plot to visualise silhouette score is used for helping to determine the number of clusters."
   ]
  },
  {
   "cell_type": "code",
   "execution_count": null,
   "id": "existing-incidence",
   "metadata": {},
   "outputs": [],
   "source": [
    "K = range(2,21)\n",
    "kmeans = [KMeans(n_clusters=k, random_state=0).fit(scaled_features) for k in K]\n",
    "sil = [silhouette_score(scaled_features, model.predict(scaled_features)) for model in kmeans]\n",
    "\n",
    "# Set fig size for legibility\n",
    "plt.rcParams[\"figure.figsize\"] = (10,5)\n",
    "\n",
    "# Create basic plot\n",
    "plt.scatter(K,sil)\n",
    "plt.xlabel('K clusters')\n",
    "plt.ylabel('Silhouette Score')\n",
    "plt.xticks(K)\n",
    "plt.grid()\n",
    "\n",
    "# # add annotation for chosen K\n",
    "# arrowprops=dict(arrowstyle='->', color='blue')\n",
    "# plt.annotate('Chosen K', xy=(7.1, 4.8), xytext=(7.6, 6), xycoords='data', \n",
    "#                  textcoords='data', arrowprops=arrowprops)\n",
    "\n",
    "plt.show()"
   ]
  },
  {
   "cell_type": "markdown",
   "id": "micro-liquid",
   "metadata": {},
   "source": [
    "Add obs"
   ]
  },
  {
   "cell_type": "markdown",
   "id": "vanilla-cleaner",
   "metadata": {},
   "source": [
    "## Map clusters"
   ]
  },
  {
   "cell_type": "code",
   "execution_count": null,
   "id": "herbal-crawford",
   "metadata": {},
   "outputs": [],
   "source": [
    "# set number of clusters\n",
    "kclusters = 4\n",
    "\n",
    "# What is this?\n",
    "toronto_clusters = pd.concat([pd.DataFrame(toronto_venues.Neighbourhood).merge(\n",
    "    tor_boro[['Neighbourhood', 'Latitude', 'Longitude']]),pd.Series(\n",
    "    kmeans[kclusters-2].labels_+1, name = 'Cluster')],axis=1)\n",
    "\n",
    "#Get central coordinates for Toronto map\n",
    "latitude = tor_boro.Latitude.mean()\n",
    "longitude = tor_boro.Longitude.mean()\n",
    "\n",
    "# create map\n",
    "map_clusters = folium.Map(location=[latitude, longitude], zoom_start=12)\n",
    "\n",
    "# set color scheme for the clusters\n",
    "x = np.arange(kclusters)\n",
    "ys = [i + x + (i*x)**2 for i in range(kclusters)]\n",
    "colors_array = cm.rainbow(np.linspace(0, 1, len(ys)))\n",
    "rainbow = [colors.rgb2hex(i) for i in colors_array]\n",
    "\n",
    "# add markers to the map\n",
    "markers_colors = []\n",
    "for lat, lon, poi, cluster in zip(toronto_clusters['Latitude'], toronto_clusters['Longitude'],\n",
    "                                  toronto_clusters['Neighbourhood'], toronto_clusters['Cluster']):\n",
    "    label = folium.Popup(str(poi) + ' Cluster ' + str(cluster), parse_html=True)\n",
    "    folium.CircleMarker(\n",
    "        [lat, lon],\n",
    "        radius=5,\n",
    "        popup=label,\n",
    "        color=rainbow[cluster-1],\n",
    "        fill=True,\n",
    "        fill_color=rainbow[cluster-1],\n",
    "        fill_opacity=0.7).add_to(map_clusters)\n",
    "       \n",
    "map_clusters"
   ]
  },
  {
   "cell_type": "markdown",
   "id": "reasonable-panama",
   "metadata": {},
   "source": [
    "Visual obs"
   ]
  },
  {
   "cell_type": "markdown",
   "id": "going-anaheim",
   "metadata": {},
   "source": [
    "## Trying something here but I'm not really sure what lol"
   ]
  },
  {
   "cell_type": "code",
   "execution_count": null,
   "id": "stainless-melbourne",
   "metadata": {},
   "outputs": [],
   "source": [
    "# Create clusters dict for cluster analysis\n",
    "clusters = {n+1:list(toronto_clusters.Neighbourhood.loc[toronto_clusters.Cluster == n+1]) \n",
    "            for n in range(kclusters)}\n",
    "\n",
    "# PLease explain this\n",
    "\n",
    "clusters_cat_list = [pd.Series(toronto_venue_cats[toronto_venue_cats.Neighbourhood.isin(\n",
    "    clusters[i])].reset_index(drop=True).drop('Neighbourhood',axis=1).mean(\n",
    "    ).sort_values(ascending=False),name = 'Cluster '+str(i))\n",
    " for i in range(1,kclusters+1)]\n",
    "\n",
    "clusters_cat_df = pd.DataFrame([item for item in clusters_cat_list]).T\n",
    "\n",
    "clusters_cat_df"
   ]
  },
  {
   "cell_type": "code",
   "execution_count": null,
   "id": "dense-johnston",
   "metadata": {},
   "outputs": [],
   "source": [
    "clusters_cat_df.sum(numeric_only=True)"
   ]
  },
  {
   "cell_type": "markdown",
   "id": "respiratory-calculation",
   "metadata": {},
   "source": [
    "# Final Observations"
   ]
  }
 ],
 "metadata": {
  "kernelspec": {
   "display_name": "Python 3",
   "language": "python",
   "name": "python3"
  },
  "language_info": {
   "codemirror_mode": {
    "name": "ipython",
    "version": 3
   },
   "file_extension": ".py",
   "mimetype": "text/x-python",
   "name": "python",
   "nbconvert_exporter": "python",
   "pygments_lexer": "ipython3",
   "version": "3.8.5"
  }
 },
 "nbformat": 4,
 "nbformat_minor": 5
}
