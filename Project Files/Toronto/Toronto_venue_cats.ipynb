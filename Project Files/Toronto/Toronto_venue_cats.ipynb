{
 "cells": [
  {
   "cell_type": "markdown",
   "id": "starting-tunnel",
   "metadata": {},
   "source": [
    "# Clustering Toronto Neighbourhoods\n",
    "#### Part 2: Venue Categories\n",
    "\n",
    "What is the aim of this notebook?"
   ]
  },
  {
   "cell_type": "markdown",
   "id": "vulnerable-trash",
   "metadata": {},
   "source": [
    "## Load libraries"
   ]
  },
  {
   "cell_type": "code",
   "execution_count": 1,
   "id": "intellectual-drink",
   "metadata": {},
   "outputs": [],
   "source": [
    "import requests # HTTP requests\n",
    "import pandas as pd # Data structures"
   ]
  },
  {
   "cell_type": "markdown",
   "id": "noble-membrane",
   "metadata": {},
   "source": [
    "## Load data\n",
    "\n",
    "Here we load the dataframe, tor_boro.csv, which we saved previously in the Toronto_data_prep notebook."
   ]
  },
  {
   "cell_type": "code",
   "execution_count": 2,
   "id": "unexpected-novelty",
   "metadata": {},
   "outputs": [],
   "source": [
    "tor_boro = pd.read_csv('tor_boro.csv')"
   ]
  },
  {
   "cell_type": "markdown",
   "id": "governmental-anxiety",
   "metadata": {},
   "source": [
    "## Define functions and objects\n",
    "\n",
    "#### Initilise cat_list\n",
    "\n",
    "cat_list is a list of all categories and their subsequent child directories available on the FourSquare API.\n",
    "\n",
    "It is initialised here to avoid calling the API unnecessarily.\n",
    "\n",
    "This cell also includes foursquare API credentials which are required for calls using getNearbyVenues.\n"
   ]
  },
  {
   "cell_type": "code",
   "execution_count": 3,
   "id": "loved-bailey",
   "metadata": {},
   "outputs": [],
   "source": [
    "CLIENT_ID = 'JHD12LNKPLUI4FCOPN1Q0QAZS2CCIYWXXXYHUBOOYPD3LBRR' # Foursquare ID\n",
    "CLIENT_SECRET = 'L1TC5ELHY2RAETCJOCMOF3OFA4KHWLXIHOJDFYNU0NNG14KS' # Foursquare Secret\n",
    "VERSION = '20190425' # Foursquare API version\n",
    "\n",
    "# Create categories endpoint URL\n",
    "url = 'https://api.foursquare.com/v2/venues/categories??&client_id={}&client_secret={} \\\n",
    "        &v={}'.format(\n",
    "        CLIENT_ID, \n",
    "        CLIENT_SECRET,\n",
    "        VERSION)\n",
    "\n",
    "# Create lists of venue categories from Foursquare endpoint URL \n",
    "cat_list = requests.get(url).json()['response']['categories']"
   ]
  },
  {
   "cell_type": "markdown",
   "id": "authorized-begin",
   "metadata": {},
   "source": [
    "### Define _getParentCat\n",
    "\n",
    "getParentCat is a function which returns the parent category of a venues category when found using the Foursquare app. The Foursquare Venue Category Hierarchy can be found in the Foursquare [docs](https://developer.foursquare.com/docs/build-with-foursquare/categories/).\n",
    "\n",
    "Note that cat_list must be defined as intended for getNearbyVenueCats to work. As mentioned above, cat_list is not defined within the function to avoid unnecessarily calling the API."
   ]
  },
  {
   "cell_type": "code",
   "execution_count": 4,
   "id": "relevant-compromise",
   "metadata": {},
   "outputs": [],
   "source": [
    "    def _getParentCat(cat_list: list, target_id: str) -> str:\n",
    "\n",
    "        '''This function returns the parent category given a Foursquare 'venue category'\n",
    "\n",
    "        Note that cat_list is a list of all Foursquare categories and their subsequent \n",
    "        child directories and must be defined prior to using this function.\n",
    "        '''\n",
    "    \n",
    "        for element in cat_list:\n",
    "            if element['name'] == target_id:\n",
    "                return element['name']\n",
    "            else:\n",
    "                if element['categories']:\n",
    "                    check_child = _getParentCat(element['categories'], target_id)\n",
    "                    if check_child:\n",
    "                        return element['name']\n"
   ]
  },
  {
   "cell_type": "markdown",
   "id": "brutal-spanking",
   "metadata": {},
   "source": [
    "### Define getNearbyVenueCats\n",
    "\n",
    "getNearbyVenues uses the Foursquare explore endpoint and getParentCat function to return lists of neighbourhoods' venues by category.\n",
    "\n",
    "Names, latitudes and longitudes arguments must be passed in the form of iterables. Limit and radius arguments are optional and are 100 and 500 respectively by default.\n",
    "\n",
    "More information on the Foursquare explore endpoint can be found in the [docs](https://developer.foursquare.com/docs/api-reference/venues/explore/)."
   ]
  },
  {
   "cell_type": "code",
   "execution_count": 5,
   "id": "coordinated-sydney",
   "metadata": {},
   "outputs": [],
   "source": [
    "def getNearbyVenueCats(names, latitudes, longitudes, limit = 100, radius = 1000):\n",
    "    \n",
    "    '''\n",
    "    Uses the Foursquare explore endpoint and getParentCat function to return lists \n",
    "    of neighbourhoods' venues by category\n",
    "    '''\n",
    "    \n",
    "    venues_list = []\n",
    "    for name, lat, lng in zip(names, latitudes, longitudes):        \n",
    "       # create the API request URL\n",
    "        url = 'https://api.foursquare.com/v2/venues/explore?&client_id={}&client_secret={}\\\n",
    "        &v={}&ll={},{}&limit={}&radius={}&sortByPopularity=1'.format(\n",
    "            CLIENT_ID, \n",
    "            CLIENT_SECRET, \n",
    "            VERSION, \n",
    "            lat, \n",
    "            lng,\n",
    "            limit,\n",
    "            radius\n",
    "            )\n",
    "         \n",
    "        results = requests.get(url).json()['response']['groups'][0]['items']\n",
    "        \n",
    "        venues_list.append([(name, _getParentCat(cat_list,\n",
    "                            v['venue']['categories'][0]['name'])) for v in results])\n",
    "        \n",
    "        cat_df = pd.DataFrame([item for venue_list in venues_list for item in venue_list],\n",
    "                                columns = ['Neighbourhood','Venue_Category'])\n",
    "        \n",
    "        # Create frequency table of venue categories for each neighbourhood\n",
    "        \n",
    "        # Change category names to dummy vals\n",
    "        cat_freq_dum = pd.get_dummies(cat_df.Venue_Category,prefix='',prefix_sep='')\n",
    "\n",
    "        # Sum dummy values for each category by \n",
    "        cat_freq = pd.concat([cat_df.Neighbourhood,cat_freq_dum],\n",
    "                               axis=1).groupby('Neighbourhood').sum().reset_index()\n",
    "        \n",
    "    return cat_freq"
   ]
  },
  {
   "cell_type": "markdown",
   "id": "egyptian-fight",
   "metadata": {},
   "source": [
    "The above functions are used to get the dataframe we will use for analysis. It is saved as a csv for further exploration. The arguments for the getNearbyVenueCats can also be modified below."
   ]
  },
  {
   "cell_type": "code",
   "execution_count": 6,
   "id": "royal-paradise",
   "metadata": {},
   "outputs": [],
   "source": [
    "names = tor_boro.Neighbourhood\n",
    "lats = tor_boro.Latitude\n",
    "lngs = tor_boro.Longitude\n",
    "# limit = 100\n",
    "# radius = 500\n",
    "\n",
    "toronto_venues = getNearbyVenueCats(names, lats, lngs)"
   ]
  },
  {
   "cell_type": "code",
   "execution_count": 8,
   "id": "political-faith",
   "metadata": {},
   "outputs": [],
   "source": [
    "toronto_venues.to_csv('toronto_venues.csv',index=False)"
   ]
  }
 ],
 "metadata": {
  "kernelspec": {
   "display_name": "Python 3",
   "language": "python",
   "name": "python3"
  },
  "language_info": {
   "codemirror_mode": {
    "name": "ipython",
    "version": 3
   },
   "file_extension": ".py",
   "mimetype": "text/x-python",
   "name": "python",
   "nbconvert_exporter": "python",
   "pygments_lexer": "ipython3",
   "version": "3.8.5"
  }
 },
 "nbformat": 4,
 "nbformat_minor": 5
}
