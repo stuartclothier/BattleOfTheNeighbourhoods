{
 "cells": [
  {
   "cell_type": "markdown",
   "id": "confident-lemon",
   "metadata": {},
   "source": [
    "# Clustering Toronto Neighbourhoods"
   ]
  },
  {
   "cell_type": "markdown",
   "id": "tribal-survey",
   "metadata": {},
   "source": [
    "### Load libraries"
   ]
  },
  {
   "cell_type": "code",
   "execution_count": 2,
   "id": "interim-scenario",
   "metadata": {},
   "outputs": [],
   "source": [
    "import pandas as pd\n",
    "from bs4 import BeautifulSoup\n",
    "from urllib.request import urlopen\n",
    "import re"
   ]
  },
  {
   "cell_type": "markdown",
   "id": "naval-reflection",
   "metadata": {},
   "source": [
    "### Data Exctraction and Cleaning"
   ]
  },
  {
   "cell_type": "markdown",
   "id": "absent-bankruptcy",
   "metadata": {},
   "source": [
    "Toronto neighbourhood information was extractred from [Wikipedia](https://en.wikipedia.org/wiki/List_of_postal_codes_of_Canada:_M). It was then cleaned and converted to a Pandas DataFrame "
   ]
  },
  {
   "cell_type": "code",
   "execution_count": 3,
   "id": "smaller-mount",
   "metadata": {},
   "outputs": [],
   "source": [
    "# Scrape wiki\n",
    "\n",
    "with urlopen(\"https://en.wikipedia.org/wiki/List_of_postal_codes_of_Canada:_M\") as fp:\n",
    "    soup = BeautifulSoup(fp)"
   ]
  },
  {
   "cell_type": "code",
   "execution_count": 4,
   "id": "knowing-italy",
   "metadata": {},
   "outputs": [],
   "source": [
    "# Extract table\n",
    "\n",
    "table_html = soup.find('table').find_all('tr')"
   ]
  },
  {
   "cell_type": "code",
   "execution_count": 5,
   "id": "hispanic-pressing",
   "metadata": {},
   "outputs": [],
   "source": [
    "# Define function for converting html to list\n",
    "\n",
    "def cleanhtml(raw_html):\n",
    "    cleanr = re.compile('<.*?>')\n",
    "    text = re.sub(cleanr, '', str(raw_html)).splitlines()\n",
    "    return list(filter(None, text))"
   ]
  },
  {
   "cell_type": "code",
   "execution_count": 6,
   "id": "personal-absence",
   "metadata": {},
   "outputs": [],
   "source": [
    "# Get list\n",
    "\n",
    "table = [cleanhtml(row) for row in table_html]"
   ]
  },
  {
   "cell_type": "code",
   "execution_count": 6,
   "id": "normal-respect",
   "metadata": {},
   "outputs": [],
   "source": [
    "# Convert list to df and clean\n",
    "\n",
    "table_df = pd.DataFrame(table, columns = table[0])\n",
    "table_df = table_df.drop(table_df.index[0])\n",
    "table_df = table_df[table_df.Borough != 'Not assigned'].reset_index(drop=True)"
   ]
  },
  {
   "cell_type": "markdown",
   "id": "wireless-function",
   "metadata": {},
   "source": [
    "### Data checking and verifying"
   ]
  },
  {
   "cell_type": "markdown",
   "id": "economic-killing",
   "metadata": {},
   "source": [
    "The DataFrame was checked to make sure no post codes were shared and that all had neighbourhood(s) assigned. Finally the shape of the Dataframe was shown. "
   ]
  },
  {
   "cell_type": "code",
   "execution_count": 7,
   "id": "manual-bench",
   "metadata": {},
   "outputs": [
    {
     "data": {
      "text/plain": [
       "103"
      ]
     },
     "execution_count": 7,
     "metadata": {},
     "output_type": "execute_result"
    }
   ],
   "source": [
    "len(table_df)"
   ]
  },
  {
   "cell_type": "code",
   "execution_count": 8,
   "id": "requested-circumstances",
   "metadata": {},
   "outputs": [
    {
     "data": {
      "text/plain": [
       "103"
      ]
     },
     "execution_count": 8,
     "metadata": {},
     "output_type": "execute_result"
    }
   ],
   "source": [
    "len(table_df[table_df.Neighbourhood != 'Not assigned'])"
   ]
  },
  {
   "cell_type": "markdown",
   "id": "answering-iraqi",
   "metadata": {},
   "source": [
    "Here we can see no neighbourhoods are unassigned."
   ]
  },
  {
   "cell_type": "code",
   "execution_count": 9,
   "id": "induced-commodity",
   "metadata": {},
   "outputs": [
    {
     "data": {
      "text/plain": [
       "1    103\n",
       "Name: Postal Code, dtype: int64"
      ]
     },
     "execution_count": 9,
     "metadata": {},
     "output_type": "execute_result"
    }
   ],
   "source": [
    "table_df['Postal Code'].value_counts().value_counts()"
   ]
  },
  {
   "cell_type": "markdown",
   "id": "neither-platinum",
   "metadata": {},
   "source": [
    "Here we can see no Postal Codes are shared."
   ]
  },
  {
   "cell_type": "code",
   "execution_count": 10,
   "id": "armed-fairy",
   "metadata": {},
   "outputs": [
    {
     "data": {
      "text/plain": [
       "(103, 3)"
      ]
     },
     "execution_count": 10,
     "metadata": {},
     "output_type": "execute_result"
    }
   ],
   "source": [
    "table_df.shape"
   ]
  },
  {
   "cell_type": "code",
   "execution_count": null,
   "id": "happy-paste",
   "metadata": {},
   "outputs": [],
   "source": []
  }
 ],
 "metadata": {
  "kernelspec": {
   "display_name": "Python 3",
   "language": "python",
   "name": "python3"
  },
  "language_info": {
   "codemirror_mode": {
    "name": "ipython",
    "version": 3
   },
   "file_extension": ".py",
   "mimetype": "text/x-python",
   "name": "python",
   "nbconvert_exporter": "python",
   "pygments_lexer": "ipython3",
   "version": "3.8.5"
  }
 },
 "nbformat": 4,
 "nbformat_minor": 5
}
