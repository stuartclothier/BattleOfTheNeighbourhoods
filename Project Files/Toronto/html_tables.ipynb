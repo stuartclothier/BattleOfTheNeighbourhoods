{
 "cells": [
  {
   "cell_type": "markdown",
   "id": "developed-atlanta",
   "metadata": {},
   "source": [
    "This function was designed to parse HTML tables, in the form of beautiful soup objects, to lists for further analysis. This function was superseded by the pandas read_html function for the Toronto clustering project."
   ]
  },
  {
   "cell_type": "code",
   "execution_count": null,
   "id": "social-equilibrium",
   "metadata": {},
   "outputs": [],
   "source": [
    "def html_tables(soup) -> list:\n",
    "    \n",
    "    ## This function converts tables from a url (beautiful soup object) to lists of \n",
    "    ## lists - i.e. each table is a list of rows and each row is itself a list.\n",
    "    \n",
    "    rows = [row.find_all('tr') for row in soup.find_all('table')]\n",
    "    tables = [[list(filter(None,line.text.splitlines())) \n",
    "               for line in table] for table in rows]\n",
    "    \n",
    "    return tables"
   ]
  }
 ],
 "metadata": {
  "kernelspec": {
   "display_name": "Python 3",
   "language": "python",
   "name": "python3"
  },
  "language_info": {
   "codemirror_mode": {
    "name": "ipython",
    "version": 3
   },
   "file_extension": ".py",
   "mimetype": "text/x-python",
   "name": "python",
   "nbconvert_exporter": "python",
   "pygments_lexer": "ipython3",
   "version": "3.8.5"
  }
 },
 "nbformat": 4,
 "nbformat_minor": 5
}
