{
 "cells": [
  {
   "cell_type": "markdown",
   "id": "classical-instrumentation",
   "metadata": {},
   "source": [
    "# Clustering Toronto - Part 1"
   ]
  },
  {
   "cell_type": "markdown",
   "id": "cellular-tournament",
   "metadata": {},
   "source": [
    "### Load libraries"
   ]
  },
  {
   "cell_type": "code",
   "execution_count": 1,
   "id": "genetic-agent",
   "metadata": {},
   "outputs": [],
   "source": [
    "import pandas as pd\n",
    "from bs4 import BeautifulSoup\n",
    "from urllib.request import urlopen\n",
    "import re"
   ]
  },
  {
   "cell_type": "markdown",
   "id": "sized-packet",
   "metadata": {},
   "source": [
    "### Data Exctraction and Cleaning"
   ]
  },
  {
   "cell_type": "markdown",
   "id": "attached-logan",
   "metadata": {},
   "source": [
    "Toronto neighbourhood information was extractred from [Wikipedia](https://en.wikipedia.org/wiki/List_of_postal_codes_of_Canada:_M). It was then cleaned and converted to a Pandas DataFrame "
   ]
  },
  {
   "cell_type": "code",
   "execution_count": 2,
   "id": "stable-venezuela",
   "metadata": {},
   "outputs": [],
   "source": [
    "# Scrape wiki\n",
    "\n",
    "with urlopen(\"https://en.wikipedia.org/wiki/List_of_postal_codes_of_Canada:_M\") as fp:\n",
    "    soup = BeautifulSoup(fp)"
   ]
  },
  {
   "cell_type": "code",
   "execution_count": 3,
   "id": "alternate-humanitarian",
   "metadata": {},
   "outputs": [],
   "source": [
    "# Extract table\n",
    "\n",
    "table_html = soup.find('table').find_all('tr')"
   ]
  },
  {
   "cell_type": "code",
   "execution_count": 4,
   "id": "global-adjustment",
   "metadata": {},
   "outputs": [],
   "source": [
    "# Define function for converting html to list\n",
    "\n",
    "def cleanhtml(raw_html):\n",
    "    cleanr = re.compile('<.*?>')\n",
    "    text = re.sub(cleanr, '', str(raw_html)).splitlines()\n",
    "    return list(filter(None, text))"
   ]
  },
  {
   "cell_type": "code",
   "execution_count": 5,
   "id": "occupied-crack",
   "metadata": {},
   "outputs": [],
   "source": [
    "# Get list\n",
    "\n",
    "table = [cleanhtml(row) for row in table_html]"
   ]
  },
  {
   "cell_type": "code",
   "execution_count": 6,
   "id": "minor-jordan",
   "metadata": {},
   "outputs": [],
   "source": [
    "# Convert list to df and clean\n",
    "\n",
    "table_df = pd.DataFrame(table, columns = table[0])\n",
    "table_df = table_df.drop(table_df.index[0])\n",
    "table_df = table_df[table_df.Borough != 'Not assigned'].reset_index(drop=True)"
   ]
  },
  {
   "cell_type": "markdown",
   "id": "comparative-outside",
   "metadata": {},
   "source": [
    "### Data checking and verifying"
   ]
  },
  {
   "cell_type": "markdown",
   "id": "norwegian-munich",
   "metadata": {},
   "source": [
    "The DataFrame was checked to make sure no post codes were shared and that all had neighbourhood(s) assigned. Finally the shape of the Dataframe was shown. "
   ]
  },
  {
   "cell_type": "code",
   "execution_count": 7,
   "id": "mental-kazakhstan",
   "metadata": {},
   "outputs": [
    {
     "data": {
      "text/plain": [
       "103"
      ]
     },
     "execution_count": 7,
     "metadata": {},
     "output_type": "execute_result"
    }
   ],
   "source": [
    "len(table_df)"
   ]
  },
  {
   "cell_type": "code",
   "execution_count": 8,
   "id": "documentary-convention",
   "metadata": {},
   "outputs": [
    {
     "data": {
      "text/plain": [
       "103"
      ]
     },
     "execution_count": 8,
     "metadata": {},
     "output_type": "execute_result"
    }
   ],
   "source": [
    "len(table_df[table_df.Neighbourhood != 'Not assigned'])"
   ]
  },
  {
   "cell_type": "markdown",
   "id": "running-warrant",
   "metadata": {},
   "source": [
    "Here we can see no neighbourhoods are unassigned."
   ]
  },
  {
   "cell_type": "code",
   "execution_count": 9,
   "id": "muslim-manhattan",
   "metadata": {},
   "outputs": [
    {
     "data": {
      "text/plain": [
       "1    103\n",
       "Name: Postal Code, dtype: int64"
      ]
     },
     "execution_count": 9,
     "metadata": {},
     "output_type": "execute_result"
    }
   ],
   "source": [
    "table_df['Postal Code'].value_counts().value_counts()"
   ]
  },
  {
   "cell_type": "markdown",
   "id": "particular-extraction",
   "metadata": {},
   "source": [
    "Here we can see no Postal Codes are shared."
   ]
  },
  {
   "cell_type": "code",
   "execution_count": 10,
   "id": "freelance-observation",
   "metadata": {},
   "outputs": [
    {
     "data": {
      "text/plain": [
       "(103, 3)"
      ]
     },
     "execution_count": 10,
     "metadata": {},
     "output_type": "execute_result"
    }
   ],
   "source": [
    "table_df.shape"
   ]
  },
  {
   "cell_type": "markdown",
   "id": "increased-header",
   "metadata": {},
   "source": [
    "### Adding latitude and the longitude coordinates"
   ]
  },
  {
   "cell_type": "markdown",
   "id": "absent-scout",
   "metadata": {},
   "source": [
    "My Attempt at geolocating latitude and the longitude coordinates using geopy. This is mostly built on trial and error as some locations could not be found. Latitude and longitude for M7R are from the geospatial csv as geopy couldn't find it using any method."
   ]
  },
  {
   "cell_type": "code",
   "execution_count": 11,
   "id": "convenient-scene",
   "metadata": {
    "collapsed": true,
    "jupyter": {
     "outputs_hidden": true
    }
   },
   "outputs": [
    {
     "ename": "AttributeError",
     "evalue": "'Series' object has no attribute 'split'",
     "output_type": "error",
     "traceback": [
      "\u001b[1;31m---------------------------------------------------------------------------\u001b[0m",
      "\u001b[1;31mAttributeError\u001b[0m                            Traceback (most recent call last)",
      "\u001b[1;32m<ipython-input-11-21152211bddf>\u001b[0m in \u001b[0;36m<module>\u001b[1;34m\u001b[0m\n\u001b[0;32m      6\u001b[0m \u001b[0mgeocode\u001b[0m \u001b[1;33m=\u001b[0m \u001b[0mRateLimiter\u001b[0m\u001b[1;33m(\u001b[0m\u001b[0mgeolocator\u001b[0m\u001b[1;33m.\u001b[0m\u001b[0mgeocode\u001b[0m\u001b[1;33m,\u001b[0m \u001b[0mmin_delay_seconds\u001b[0m\u001b[1;33m=\u001b[0m\u001b[1;36m1\u001b[0m\u001b[1;33m)\u001b[0m\u001b[1;33m\u001b[0m\u001b[1;33m\u001b[0m\u001b[0m\n\u001b[0;32m      7\u001b[0m \u001b[1;33m\u001b[0m\u001b[0m\n\u001b[1;32m----> 8\u001b[1;33m \u001b[0mtable_df\u001b[0m\u001b[1;33m[\u001b[0m\u001b[1;34m'location'\u001b[0m\u001b[1;33m]\u001b[0m \u001b[1;33m=\u001b[0m \u001b[0mtable_df\u001b[0m\u001b[1;33m.\u001b[0m\u001b[0mNeighbourhood\u001b[0m\u001b[1;33m.\u001b[0m\u001b[0msplit\u001b[0m\u001b[1;33m(\u001b[0m\u001b[1;34m','\u001b[0m\u001b[1;33m)\u001b[0m\u001b[1;33m[\u001b[0m\u001b[1;36m0\u001b[0m\u001b[1;33m]\u001b[0m\u001b[1;33m.\u001b[0m\u001b[0msplit\u001b[0m\u001b[1;33m(\u001b[0m\u001b[1;34m'-'\u001b[0m\u001b[1;33m)\u001b[0m\u001b[1;33m[\u001b[0m\u001b[1;36m0\u001b[0m\u001b[1;33m]\u001b[0m\u001b[1;33m.\u001b[0m\u001b[0mapply\u001b[0m\u001b[1;33m(\u001b[0m\u001b[0mgeocode\u001b[0m\u001b[1;33m)\u001b[0m\u001b[1;33m\u001b[0m\u001b[1;33m\u001b[0m\u001b[0m\n\u001b[0m",
      "\u001b[1;32m~\\.julia\\conda\\3\\lib\\site-packages\\pandas\\core\\generic.py\u001b[0m in \u001b[0;36m__getattr__\u001b[1;34m(self, name)\u001b[0m\n\u001b[0;32m   5460\u001b[0m             \u001b[1;32mif\u001b[0m \u001b[0mself\u001b[0m\u001b[1;33m.\u001b[0m\u001b[0m_info_axis\u001b[0m\u001b[1;33m.\u001b[0m\u001b[0m_can_hold_identifiers_and_holds_name\u001b[0m\u001b[1;33m(\u001b[0m\u001b[0mname\u001b[0m\u001b[1;33m)\u001b[0m\u001b[1;33m:\u001b[0m\u001b[1;33m\u001b[0m\u001b[1;33m\u001b[0m\u001b[0m\n\u001b[0;32m   5461\u001b[0m                 \u001b[1;32mreturn\u001b[0m \u001b[0mself\u001b[0m\u001b[1;33m[\u001b[0m\u001b[0mname\u001b[0m\u001b[1;33m]\u001b[0m\u001b[1;33m\u001b[0m\u001b[1;33m\u001b[0m\u001b[0m\n\u001b[1;32m-> 5462\u001b[1;33m             \u001b[1;32mreturn\u001b[0m \u001b[0mobject\u001b[0m\u001b[1;33m.\u001b[0m\u001b[0m__getattribute__\u001b[0m\u001b[1;33m(\u001b[0m\u001b[0mself\u001b[0m\u001b[1;33m,\u001b[0m \u001b[0mname\u001b[0m\u001b[1;33m)\u001b[0m\u001b[1;33m\u001b[0m\u001b[1;33m\u001b[0m\u001b[0m\n\u001b[0m\u001b[0;32m   5463\u001b[0m \u001b[1;33m\u001b[0m\u001b[0m\n\u001b[0;32m   5464\u001b[0m     \u001b[1;32mdef\u001b[0m \u001b[0m__setattr__\u001b[0m\u001b[1;33m(\u001b[0m\u001b[0mself\u001b[0m\u001b[1;33m,\u001b[0m \u001b[0mname\u001b[0m\u001b[1;33m:\u001b[0m \u001b[0mstr\u001b[0m\u001b[1;33m,\u001b[0m \u001b[0mvalue\u001b[0m\u001b[1;33m)\u001b[0m \u001b[1;33m->\u001b[0m \u001b[1;32mNone\u001b[0m\u001b[1;33m:\u001b[0m\u001b[1;33m\u001b[0m\u001b[1;33m\u001b[0m\u001b[0m\n",
      "\u001b[1;31mAttributeError\u001b[0m: 'Series' object has no attribute 'split'"
     ]
    }
   ],
   "source": [
    "from geopy.geocoders import Nominatim\n",
    "\n",
    "geolocator = Nominatim(user_agent=\"aaa\")\n",
    "\n",
    "from geopy.extra.rate_limiter import RateLimiter\n",
    "geocode = RateLimiter(geolocator.geocode, min_delay_seconds=1)\n",
    "\n",
    "table_df['location'] = table_df.Neighbourhood.split(',')[0].split('-')[0].apply(geocode)"
   ]
  },
  {
   "cell_type": "code",
   "execution_count": null,
   "id": "concerned-pollution",
   "metadata": {},
   "outputs": [],
   "source": [
    "table_df"
   ]
  },
  {
   "cell_type": "code",
   "execution_count": 20,
   "id": "behind-cricket",
   "metadata": {},
   "outputs": [
    {
     "data": {
      "text/plain": [
       "Postal Code                                        M7R\n",
       "Borough                                    Mississauga\n",
       "Neighbourhood    Canada Post Gateway Processing Centre\n",
       "Name: 76, dtype: object"
      ]
     },
     "execution_count": 20,
     "metadata": {},
     "output_type": "execute_result"
    }
   ],
   "source": [
    "table_df.iloc[76]#.split(',')[0].split('-')[0]"
   ]
  },
  {
   "cell_type": "code",
   "execution_count": 22,
   "id": "confident-quarterly",
   "metadata": {},
   "outputs": [],
   "source": [
    "location = geolocator.geocode('M7R, Toronto, Ontario')\n",
    "# print(location.latitude, location.longitude)\n",
    "location"
   ]
  },
  {
   "cell_type": "code",
   "execution_count": 34,
   "id": "legislative-stupid",
   "metadata": {},
   "outputs": [
    {
     "name": "stdout",
     "output_type": "stream",
     "text": [
      "Parkwoods\n",
      "Victoria Village\n",
      "Regent Park, Harbourfront\n",
      "Lawrence Manor, Lawrence Heights\n",
      "Queen's Park, Ontario Provincial Government\n",
      "Islington Avenue, Humber Valley Village\n",
      "Malvern, Rouge\n",
      "Don Mills\n",
      "Parkview Hill, Woodbine Gardens\n",
      "Garden District, Ryerson\n",
      "Glencairn\n",
      "West Deane Park, Princess Gardens, Martin Grove, Islington, Cloverdale\n",
      "Rouge Hill, Port Union, Highland Creek\n",
      "Don Mills\n",
      "Woodbine Heights\n",
      "St. James Town\n",
      "Humewood-Cedarvale\n",
      "Eringate, Bloordale Gardens, Old Burnhamthorpe, Markland Wood\n",
      "Guildwood, Morningside, West Hill\n",
      "The Beaches\n",
      "Berczy Park\n",
      "Caledonia-Fairbanks\n",
      "Woburn\n",
      "Leaside\n",
      "Central Bay Street\n",
      "Christie\n",
      "Cedarbrae\n",
      "Hillcrest Village\n",
      "Bathurst Manor, Wilson Heights, Downsview North\n",
      "Thorncliffe Park\n",
      "Richmond, Adelaide, King\n",
      "Dufferin, Dovercourt Village\n",
      "Scarborough Village\n",
      "Fairview, Henry Farm, Oriole\n",
      "Northwood Park, York University\n",
      "East Toronto, Broadview North (Old East York)\n",
      "Harbourfront East, Union Station, Toronto Islands\n",
      "Little Portugal, Trinity\n",
      "Kennedy Park, Ionview, East Birchmount Park\n",
      "Bayview Village\n",
      "Downsview\n",
      "The Danforth West, Riverdale\n",
      "Toronto Dominion Centre, Design Exchange\n",
      "Brockton, Parkdale Village, Exhibition Place\n",
      "Golden Mile, Clairlea, Oakridge\n",
      "York Mills, Silver Hills\n",
      "Downsview\n",
      "India Bazaar, The Beaches West\n",
      "Commerce Court, Victoria Hotel\n",
      "North Park, Maple Leaf Park, Upwood Park\n",
      "Humber Summit\n",
      "Cliffside, Cliffcrest, Scarborough Village West\n",
      "Willowdale, Newtonbrook\n",
      "Downsview\n",
      "Studio District\n",
      "Bedford Park, Lawrence Manor East\n",
      "Del Ray, Mount Dennis, Keelsdale and Silverthorn xysssssssssssssssssssssssssssssssssssssssssss\n",
      "Humberlea, Emery\n",
      "Birch Cliff, Cliffside West\n",
      "Willowdale, Willowdale East\n",
      "Downsview\n",
      "Lawrence Park\n",
      "Roselawn\n",
      "Runnymede, The Junction North\n",
      "Weston\n",
      "Dorset Park, Wexford Heights, Scarborough Town Centre\n",
      "York Mills West\n",
      "Davisville North\n",
      "Forest Hill North &amp; West, Forest Hill Road Park xysssssssssssssssssssssssssssssssssssssssssss\n",
      "High Park, The Junction South\n",
      "Westmount\n",
      "Wexford, Maryvale\n",
      "Willowdale, Willowdale West\n",
      "North Toronto West,  Lawrence Park\n",
      "The Annex, North Midtown, Yorkville\n",
      "Parkdale, Roncesvalles\n"
     ]
    },
    {
     "ename": "IndexError",
     "evalue": "list index out of range",
     "output_type": "error",
     "traceback": [
      "\u001b[1;31m---------------------------------------------------------------------------\u001b[0m",
      "\u001b[1;31mAttributeError\u001b[0m                            Traceback (most recent call last)",
      "\u001b[1;32m<ipython-input-34-871870356cc6>\u001b[0m in \u001b[0;36m<module>\u001b[1;34m\u001b[0m\n\u001b[0;32m      4\u001b[0m     \u001b[1;32mtry\u001b[0m\u001b[1;33m:\u001b[0m\u001b[1;33m\u001b[0m\u001b[1;33m\u001b[0m\u001b[0m\n\u001b[1;32m----> 5\u001b[1;33m         \u001b[0mlat\u001b[0m\u001b[1;33m.\u001b[0m\u001b[0mappend\u001b[0m\u001b[1;33m(\u001b[0m\u001b[0mgeolocator\u001b[0m\u001b[1;33m.\u001b[0m\u001b[0mgeocode\u001b[0m\u001b[1;33m(\u001b[0m\u001b[1;34m'{}, Toronto, Ontario'\u001b[0m\u001b[1;33m.\u001b[0m\u001b[0mformat\u001b[0m\u001b[1;33m(\u001b[0m\u001b[0mPC\u001b[0m\u001b[1;33m.\u001b[0m\u001b[0msplit\u001b[0m\u001b[1;33m(\u001b[0m\u001b[1;34m','\u001b[0m\u001b[1;33m)\u001b[0m\u001b[1;33m[\u001b[0m\u001b[1;36m0\u001b[0m\u001b[1;33m]\u001b[0m\u001b[1;33m.\u001b[0m\u001b[0msplit\u001b[0m\u001b[1;33m(\u001b[0m\u001b[1;34m'-'\u001b[0m\u001b[1;33m)\u001b[0m\u001b[1;33m[\u001b[0m\u001b[1;36m0\u001b[0m\u001b[1;33m]\u001b[0m\u001b[1;33m)\u001b[0m\u001b[1;33m)\u001b[0m\u001b[1;33m.\u001b[0m\u001b[0mlatitude\u001b[0m\u001b[1;33m)\u001b[0m\u001b[1;33m\u001b[0m\u001b[1;33m\u001b[0m\u001b[0m\n\u001b[0m\u001b[0;32m      6\u001b[0m         \u001b[0mprint\u001b[0m\u001b[1;33m(\u001b[0m\u001b[0mPC\u001b[0m\u001b[1;33m)\u001b[0m\u001b[1;33m\u001b[0m\u001b[1;33m\u001b[0m\u001b[0m\n",
      "\u001b[1;31mAttributeError\u001b[0m: 'NoneType' object has no attribute 'latitude'",
      "\nDuring handling of the above exception, another exception occurred:\n",
      "\u001b[1;31mIndexError\u001b[0m                                Traceback (most recent call last)",
      "\u001b[1;32m<ipython-input-34-871870356cc6>\u001b[0m in \u001b[0;36m<module>\u001b[1;34m\u001b[0m\n\u001b[0;32m      7\u001b[0m \u001b[1;33m\u001b[0m\u001b[0m\n\u001b[0;32m      8\u001b[0m     \u001b[1;32mexcept\u001b[0m \u001b[0mAttributeError\u001b[0m\u001b[1;33m:\u001b[0m\u001b[1;33m\u001b[0m\u001b[1;33m\u001b[0m\u001b[0m\n\u001b[1;32m----> 9\u001b[1;33m         \u001b[0mlat\u001b[0m\u001b[1;33m.\u001b[0m\u001b[0mappend\u001b[0m\u001b[1;33m(\u001b[0m\u001b[0mgeolocator\u001b[0m\u001b[1;33m.\u001b[0m\u001b[0mgeocode\u001b[0m\u001b[1;33m(\u001b[0m\u001b[1;34m'{}, Toronto, Ontario'\u001b[0m\u001b[1;33m.\u001b[0m\u001b[0mformat\u001b[0m\u001b[1;33m(\u001b[0m\u001b[0mPC\u001b[0m\u001b[1;33m.\u001b[0m\u001b[0msplit\u001b[0m\u001b[1;33m(\u001b[0m\u001b[1;34m','\u001b[0m\u001b[1;33m)\u001b[0m\u001b[1;33m[\u001b[0m\u001b[1;36m1\u001b[0m\u001b[1;33m]\u001b[0m\u001b[1;33m.\u001b[0m\u001b[0msplit\u001b[0m\u001b[1;33m(\u001b[0m\u001b[1;34m'-'\u001b[0m\u001b[1;33m)\u001b[0m\u001b[1;33m[\u001b[0m\u001b[1;36m0\u001b[0m\u001b[1;33m]\u001b[0m\u001b[1;33m)\u001b[0m\u001b[1;33m)\u001b[0m\u001b[1;33m.\u001b[0m\u001b[0mlatitude\u001b[0m\u001b[1;33m)\u001b[0m\u001b[1;33m\u001b[0m\u001b[1;33m\u001b[0m\u001b[0m\n\u001b[0m\u001b[0;32m     10\u001b[0m         \u001b[0mprint\u001b[0m\u001b[1;33m(\u001b[0m\u001b[0mPC\u001b[0m\u001b[1;33m,\u001b[0m \u001b[1;34m'xysssssssssssssssssssssssssssssssssssssssssss'\u001b[0m\u001b[1;33m)\u001b[0m\u001b[1;33m\u001b[0m\u001b[1;33m\u001b[0m\u001b[0m\n\u001b[0;32m     11\u001b[0m     \u001b[1;32mexcept\u001b[0m \u001b[0mIndexError\u001b[0m\u001b[1;33m:\u001b[0m\u001b[1;33m\u001b[0m\u001b[1;33m\u001b[0m\u001b[0m\n",
      "\u001b[1;31mIndexError\u001b[0m: list index out of range"
     ]
    }
   ],
   "source": [
    "lat = []\n",
    "\n",
    "for PC in table_df.Neighbourhood:\n",
    "    try:\n",
    "        lat.append(geolocator.geocode('{}, Toronto, Ontario'.format(PC.split(',')[0].split('-')[0])).latitude)\n",
    "        print(PC)\n",
    "\n",
    "    except AttributeError:\n",
    "        lat.append(geolocator.geocode('{}, Toronto, Ontario'.format(PC.split(',')[1].split('-')[0])).latitude)\n",
    "        print(PC, 'xysssssssssssssssssssssssssssssssssssssssssss')\n",
    "    except IndexError:\n",
    "        lat.append(43.6369656)\n",
    "\n",
    "        \n",
    "# lat = [geolocator.geocode('{}, Toronto, Ontario'.format(PC.split(',')[0].split('-')[0])).latitude for PC in table_df.Neighbourhood]\n",
    "# lon"
   ]
  },
  {
   "cell_type": "code",
   "execution_count": null,
   "id": "natural-cedar",
   "metadata": {},
   "outputs": [],
   "source": [
    "lat"
   ]
  },
  {
   "cell_type": "code",
   "execution_count": null,
   "id": "equal-insulation",
   "metadata": {},
   "outputs": [],
   "source": [
    "lat = ['{}, Toronto, Ontario'.format(PC) for PC in table_df['Postal Code']]\n",
    "lat = [geolocator.geocode('{}, Toronto, Ontario'.format(PC.split(',')[0].split('-')[0])).latitude for PC in table_df.Neighbourhood]"
   ]
  },
  {
   "cell_type": "markdown",
   "id": "ideal-bidder",
   "metadata": {},
   "source": [
    "Using csv provided"
   ]
  },
  {
   "cell_type": "code",
   "execution_count": null,
   "id": "unlimited-proxy",
   "metadata": {},
   "outputs": [],
   "source": [
    "GC = pd.read_csv('Geospatial_Coordinates.csv')\n",
    "len(GC)"
   ]
  },
  {
   "cell_type": "code",
   "execution_count": null,
   "id": "varied-commissioner",
   "metadata": {},
   "outputs": [],
   "source": []
  }
 ],
 "metadata": {
  "kernelspec": {
   "display_name": "Python 3",
   "language": "python",
   "name": "python3"
  },
  "language_info": {
   "codemirror_mode": {
    "name": "ipython",
    "version": 3
   },
   "file_extension": ".py",
   "mimetype": "text/x-python",
   "name": "python",
   "nbconvert_exporter": "python",
   "pygments_lexer": "ipython3",
   "version": "3.8.5"
  }
 },
 "nbformat": 4,
 "nbformat_minor": 5
}
