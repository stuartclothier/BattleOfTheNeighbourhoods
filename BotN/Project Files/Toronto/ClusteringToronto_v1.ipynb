{
 "cells": [
  {
   "cell_type": "markdown",
   "id": "closing-interpretation",
   "metadata": {},
   "source": [
    "# Clustering Toronto Neighbourhoods"
   ]
  },
  {
   "cell_type": "markdown",
   "id": "further-enclosure",
   "metadata": {},
   "source": [
    "### Load libraries"
   ]
  },
  {
   "cell_type": "code",
   "execution_count": 1,
   "id": "illegal-cutting",
   "metadata": {},
   "outputs": [],
   "source": [
    "import pandas as pd\n",
    "from bs4 import BeautifulSoup\n",
    "from urllib.request import urlopen\n",
    "import re"
   ]
  },
  {
   "cell_type": "markdown",
   "id": "occasional-constitutional",
   "metadata": {},
   "source": [
    "### Data Exctraction and Cleaning"
   ]
  },
  {
   "cell_type": "markdown",
   "id": "stylish-exclusion",
   "metadata": {},
   "source": [
    "Toronto neighbourhood information was extractred from [Wikipedia](https://en.wikipedia.org/wiki/List_of_postal_codes_of_Canada:_M). It was then cleaned and converted to a Pandas DataFrame "
   ]
  },
  {
   "cell_type": "code",
   "execution_count": 2,
   "id": "informal-cartoon",
   "metadata": {},
   "outputs": [],
   "source": [
    "# Scrape wiki\n",
    "\n",
    "with urlopen(\"https://en.wikipedia.org/wiki/List_of_postal_codes_of_Canada:_M\") as fp:\n",
    "    soup = BeautifulSoup(fp)"
   ]
  },
  {
   "cell_type": "code",
   "execution_count": 3,
   "id": "improving-residence",
   "metadata": {},
   "outputs": [],
   "source": [
    "# Extract table\n",
    "\n",
    "table_html = soup.find('table').find_all('tr')"
   ]
  },
  {
   "cell_type": "code",
   "execution_count": 4,
   "id": "equivalent-trading",
   "metadata": {},
   "outputs": [],
   "source": [
    "# Define function for converting html to list\n",
    "\n",
    "def cleanhtml(raw_html):\n",
    "    cleanr = re.compile('<.*?>')\n",
    "    text = re.sub(cleanr, '', str(raw_html)).splitlines()\n",
    "    return list(filter(None, text))"
   ]
  },
  {
   "cell_type": "code",
   "execution_count": 5,
   "id": "rising-wheat",
   "metadata": {},
   "outputs": [],
   "source": [
    "# Get list\n",
    "\n",
    "table = [cleanhtml(row) for row in table_html]"
   ]
  },
  {
   "cell_type": "code",
   "execution_count": 6,
   "id": "polar-samba",
   "metadata": {},
   "outputs": [],
   "source": [
    "# Convert list to df and clean\n",
    "\n",
    "table_df = pd.DataFrame(table, columns = table[0])\n",
    "table_df = table_df.drop(table_df.index[0])\n",
    "table_df = table_df[table_df.Borough != 'Not assigned'].reset_index(drop=True)"
   ]
  },
  {
   "cell_type": "markdown",
   "id": "controlling-hollow",
   "metadata": {},
   "source": [
    "### Data checking and verifying"
   ]
  },
  {
   "cell_type": "markdown",
   "id": "civil-karen",
   "metadata": {},
   "source": [
    "The DataFrame was checked to make sure no post codes were shared and that all had neighbourhood(s) assigned. Finally the shape of the Dataframe was shown. "
   ]
  },
  {
   "cell_type": "code",
   "execution_count": 7,
   "id": "textile-sitting",
   "metadata": {},
   "outputs": [
    {
     "data": {
      "text/plain": [
       "103"
      ]
     },
     "execution_count": 7,
     "metadata": {},
     "output_type": "execute_result"
    }
   ],
   "source": [
    "len(table_df)"
   ]
  },
  {
   "cell_type": "code",
   "execution_count": 8,
   "id": "covered-trouble",
   "metadata": {},
   "outputs": [
    {
     "data": {
      "text/plain": [
       "103"
      ]
     },
     "execution_count": 8,
     "metadata": {},
     "output_type": "execute_result"
    }
   ],
   "source": [
    "len(table_df[table_df.Neighbourhood != 'Not assigned'])"
   ]
  },
  {
   "cell_type": "markdown",
   "id": "static-vampire",
   "metadata": {},
   "source": [
    "Here we can see no neighbourhoods are unassigned."
   ]
  },
  {
   "cell_type": "code",
   "execution_count": 9,
   "id": "turkish-minnesota",
   "metadata": {},
   "outputs": [
    {
     "data": {
      "text/plain": [
       "1    103\n",
       "Name: Postal Code, dtype: int64"
      ]
     },
     "execution_count": 9,
     "metadata": {},
     "output_type": "execute_result"
    }
   ],
   "source": [
    "table_df['Postal Code'].value_counts().value_counts()"
   ]
  },
  {
   "cell_type": "markdown",
   "id": "careful-deadline",
   "metadata": {},
   "source": [
    "Here we can see no Postal Codes are shared."
   ]
  },
  {
   "cell_type": "code",
   "execution_count": 10,
   "id": "sharp-examination",
   "metadata": {},
   "outputs": [
    {
     "data": {
      "text/plain": [
       "(103, 3)"
      ]
     },
     "execution_count": 10,
     "metadata": {},
     "output_type": "execute_result"
    }
   ],
   "source": [
    "table_df.shape"
   ]
  },
  {
   "cell_type": "code",
   "execution_count": null,
   "id": "accredited-selection",
   "metadata": {},
   "outputs": [],
   "source": []
  }
 ],
 "metadata": {
  "kernelspec": {
   "display_name": "Python 3",
   "language": "python",
   "name": "python3"
  },
  "language_info": {
   "codemirror_mode": {
    "name": "ipython",
    "version": 3
   },
   "file_extension": ".py",
   "mimetype": "text/x-python",
   "name": "python",
   "nbconvert_exporter": "python",
   "pygments_lexer": "ipython3",
   "version": "3.8.5"
  }
 },
 "nbformat": 4,
 "nbformat_minor": 5
}
