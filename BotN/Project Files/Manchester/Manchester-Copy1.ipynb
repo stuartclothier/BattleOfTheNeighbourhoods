{
 "cells": [
  {
   "cell_type": "markdown",
   "id": "married-corps",
   "metadata": {},
   "source": [
    "This is a notebook state saved on 16/2\n",
    "\n",
    "This notebook contains several attempts at using an API (Geopy, Nominatim and HERE) for location data around Manchester."
   ]
  },
  {
   "cell_type": "markdown",
   "id": "individual-alexandria",
   "metadata": {},
   "source": [
    "<h1><center>Discovering Manchester</center></h1>\n",
    "\n",
    "<h4><center> IBM Capstone Project - Exploring the best areas for a young professional to move to in Greater Manchester </center></h4>"
   ]
  },
  {
   "cell_type": "markdown",
   "id": "systematic-southeast",
   "metadata": {},
   "source": [
    "## [Table of Contents:](#Table-of-Contents:)\n",
    "\n",
    "* [Project Goals](#Project-Goals)\n",
    "* [Libraries](#Libraries)\n",
    "* [Data](#Data)\n",
    "    * [Areas](#Areas)\n",
    "        * [Metropolitan Districts](#Metropolitan-Districts:)\n",
    "        * [Wards](#Wards:)\n",
    "        * [Postcodes](#Postcodes:)\n",
    "        * [Distance from Centre](#Distance-from-Centre)\n",
    "    * [Desirability](#Desirability)\n",
    "* [References](#References)"
   ]
  },
  {
   "cell_type": "markdown",
   "id": "dental-screening",
   "metadata": {},
   "source": [
    "## Project Goals \n",
    "\n",
    "This project seeks to analyse areas of Greater Manchester and seeks to answer the question; where are be the best locations for a young professional to move to?\n",
    "\n",
    "This notebook shows my thought process and approach to this project and the avenues I have explored in trying to reach my ultimate goal of area comparison in Manchester, as such some of these sections could be removed to add readability and make the notebook much more concise and clean."
   ]
  },
  {
   "cell_type": "markdown",
   "id": "subject-feature",
   "metadata": {},
   "source": [
    "## Libraries\n",
    "\n",
    "The following libraries have been used in this project:"
   ]
  },
  {
   "cell_type": "code",
   "execution_count": 4,
   "id": "interpreted-affiliation",
   "metadata": {},
   "outputs": [],
   "source": [
    "import pandas as pd\n",
    "import numpy as np\n",
    "from bs4 import BeautifulSoup\n",
    "from urllib.request import urlopen\n",
    "import re\n",
    "from geopy.geocoders import Nominatim\n",
    "geolocator = Nominatim(user_agent=\"aaa\")\n",
    "import folium\n",
    "import requests"
   ]
  },
  {
   "cell_type": "markdown",
   "id": "accepting-howard",
   "metadata": {},
   "source": [
    "## Data\n",
    "\n",
    "### Areas\n",
    "\n",
    "The first task in this project is to determine how the areas of Greater Manchester will be divided.\n",
    "\n",
    "Manchester is somewhat difficult to divide into clearly defined areas for historical reasons. Areas {EXPAND ON THIS}!!!!!!!!!!!!!!!!!!!!!!!  <sup>[1](#1.)</sup>\n",
    "\n",
    "The following options were considered:\n",
    "\n",
    "#### <b>Metropolitan Districts:</b><br>\n",
    "\n",
    "Greater Manchester comprises of ten metropolitan areas:\n",
    "1. City of Manchester\n",
    "2. Stockport\n",
    "3. Tameside\n",
    "4. Oldham\n",
    "5. Rochdale\n",
    "6. Bury\n",
    "7. Bolton\n",
    "8. Wigan\n",
    "9. City of Salford\n",
    "10. Trafford\n",
    "\n",
    "<figure>\n",
    "<img src=\"images/Greater_Manchester_numbered_districts.svg.png\" style=\"width:500px;height:300px;\">\n",
    "<figcaption>Image 2: Greater Manchester metropolitan districts. Source: Wikipedia.</figcaption>\n",
    "</figure>\n",
    "<br>\n",
    "\n",
    "PLACE SOME OBSERVATIONS HERE<br>\n",
    "<br>\n",
    "\n",
    "#### <b>Wards:</b><br>\n",
    "\n",
    "The City of Manchester countains contain 32 Wards<sup>[2](#2.)</sup>:\n",
    "\n",
    "<figure>\n",
    "<img src=\"Images/Ward-Map-Manchester_District_(B).jpg\" style=\"width:500px;height:500px;\">\n",
    "<figcaption>Image 2: Greater Manchester metropolitan districts. Source: Wikipedia.</figcaption>\n",
    "</figure>\n",
    "<br>\n",
    "\n",
    "PLACE SOME OBSERVATIONS HERE<br>\n",
    "<br>\n"
   ]
  },
  {
   "cell_type": "markdown",
   "id": "colonial-reduction",
   "metadata": {},
   "source": [
    "#### <b>Postcodes</b>:\n",
    "\n",
    "\n",
    "Postcodes in the United Kingdom include a outward and an inward code. <br>\n",
    "The outward code comprised of a postcode area, a one or two letter code, and a postcode district, one or two digits or a digit followed by a letter. For example, Machester city centre has the outward postal code M1.<br>\n",
    "The inward code comprises of a single digit postcode sector followed by a two character postcode unit. A postal code may be a single street, or even a single building or organisation.<sup>[4](#4.)</sup>\n",
    "\n",
    "\n",
    "<figure>\n",
    "<img src=\"images/map-postcode-area-M-Manchester.jpg\" style=\"width:500px;height:300px;\">\n",
    "<figcaption>Image 2: M-Postcode districts. Source: Geopunk</figcaption>\n",
    "</figure>\n",
    "\n",
    "While inner codes seem to be far too precise for this project's aims, outer codes with the M prefix seem to give good coverage of Greater Manchester while remaining precise enough to give locally defined areas. This is explored below, details on how this is acheived is noted in further detail the comments.\n",
    "\n",
    "Unfortunately, Geopy was unable to find locations using only outer code of Postcodes. A CSV  for postcode outcode coordinates in the format of id, postcode, latitude, longitude was found from the Office of National Statistics (ONS) <sup>[5](#5.)</sup> on [free map tools](https://www.freemaptools.com/download-uk-postcode-lat-lng.htm) and used for geographical co-ordinates instead. Initially, Geopunk was scraped for postcode information, however once it was compared to this CSV it was found that many postcodes were missing from the Geopunk source. The csv file alone will be used for all postcode district geographical information as it is considerably easier to work with and any extra work to scrape websites or search for geographical co-ordinates with Geopy is superfluous.\n",
    "\n",
    "The orignal code for scraping geopunks website and using Geopy for is left below for reference of the first method acheived for geographical location. It has been changed to a Markdown cell to save computational time and can be viewed in the dropdown below."
   ]
  },
  {
   "cell_type": "markdown",
   "id": "binary-ranch",
   "metadata": {},
   "source": [
    "<details>\n",
    "<summary>Old code</summary>\n",
    "\n",
    "```python\n",
    "\n",
    "# Scrape geopunk for M-Postcode list\n",
    "\n",
    "# open site to bs4 object\n",
    "with urlopen(\"https://geopunk.co.uk/postcode-areas/M\") as fp:\n",
    "    soup = BeautifulSoup(fp)\n",
    "\n",
    "# Extract list as result set.\n",
    "# Note the list of postcodes are in links on the website so first all links are extracted.\n",
    "res_set = soup.find('a').find_all('a')\n",
    "\n",
    "# Next the text form the links is converted to a list; a pattern match function has been added to the list comprehension so only 'Mx' \n",
    "# Postcodes have been extracted.\n",
    "\n",
    "#Search for postcodes beginning with M then a digit\n",
    "pattern1 = re.compile(\"M\\d\")\n",
    "\n",
    "#Search for postcodes with a space to make distinction between full and partial post codes\n",
    "pattern2 = re.compile(\" \")\n",
    "\n",
    "# Create DataFrame (list name is old syntax)\n",
    "list_PC = pd.DataFrame([link.text for link in res_set if (pattern1.match(link.text) is not None) and (pattern2.search(link.text) is None)],\n",
    "                      columns = ['Postcode_District'])\n",
    "\n",
    "# Obtain geographical information using geopy (method1)\n",
    "MCR_geo1 = [geolocator.geocode({'postalcode':PC, 'city':'Manchester','country':'United Kingdom'}) for PC in list_PC.Postcode_District]\n",
    "\n",
    "# Obtain geographical information using geopy (method2)\n",
    "MCR_geo2 = [geolocator.geocode('{}, Manchester, United Kingdom'.format(PC)) for PC in list_PC.Postcode_District]\n",
    "\n",
    "```\n",
    "\n",
    "Neither of these methods provided sufficient results for the geographical locations of the postcodes. Further inspection of Nominatim.openstreetmap showed very little mention of postcodes in the Manchester area so this method of obtaining geographical coordinates was abandoned.\n",
    "    \n",
    "</details>"
   ]
  },
  {
   "cell_type": "markdown",
   "id": "unnecessary-offense",
   "metadata": {},
   "source": [
    "Geographical coordinates for the M-Postcode Districts extracted from the postcode outcodes ONS csv file and loaded into a DataFrame."
   ]
  },
  {
   "cell_type": "code",
   "execution_count": 175,
   "id": "multiple-comment",
   "metadata": {},
   "outputs": [],
   "source": [
    "# Get DataFrame of all UK Postcodes. Note there is some kwargs passed for formatting purposes and ease of use.\n",
    "UK_PC = pd.read_csv('https://www.freemaptools.com/download/outcode-postcodes/postcode-outcodes.csv', usecols=[1,2,3], \n",
    "                    header = 0, names = ['Postcode_District', 'Latitude','Longitude'])\n",
    "\n",
    "# Extract M- only postcodes\n",
    "MP_ONS = UK_PC.loc[UK_PC.Postcode_District.str.match('M\\d')].reset_index(drop=True)\n",
    "\n",
    "# Drop Non geographic postcode M61 - See link 5\n",
    "MP_ONS = MP_ONS[MP_ONS.Postcode_District != 'M61']"
   ]
  },
  {
   "cell_type": "markdown",
   "id": "funded-alberta",
   "metadata": {},
   "source": [
    "This list of postcodes is compared to Wikipedia's [M postcode area](https://en.wikipedia.org/wiki/M_postcode_area)<sup>[6](#6.)</sup> page to ensure no postcodes are missing."
   ]
  },
  {
   "cell_type": "markdown",
   "id": "worse-stage",
   "metadata": {},
   "source": [
    "Extract postcodes from Wikipedia:"
   ]
  },
  {
   "cell_type": "code",
   "execution_count": 3,
   "id": "incident-region",
   "metadata": {},
   "outputs": [],
   "source": [
    "with urlopen(\"https://en.wikipedia.org/wiki/M_postcode_area\") as fp:\n",
    "    soup = BeautifulSoup(fp)"
   ]
  },
  {
   "cell_type": "code",
   "execution_count": 4,
   "id": "optical-boxing",
   "metadata": {},
   "outputs": [],
   "source": [
    "res_set = soup.find_all('table')\n",
    "res_set\n",
    "\n",
    "# Define function for converting html to list\n",
    "def cleanhtml(raw_html):\n",
    "    cleaner = re.compile('<.*?>')\n",
    "    text = re.sub(cleaner, '', str(raw_html)).splitlines()\n",
    "    return list(filter(None, text))\n",
    "\n",
    "# further cleaning of list and conversion to Pandas df\n",
    "table = [cleanhtml(row) for row in res_set][1]\n",
    "table = np.array(table).reshape(len(table)//4,4)\n",
    "MP_w_f = pd.DataFrame(table, columns = table[0])\n",
    "MP_w_f = MP_w_f.drop(MP_w_f.index[0])\n",
    "\n",
    "# Drop Non geographic postcode M61 - See link 5\n",
    "MP_w_f = MP_w_f[MP_w_f['Postcode district'] != 'M61']\n",
    "\n",
    "# We can also see in the dataframe that M60 and M99 are non-residential so are also dropped\n",
    "MP_w_f = MP_w_f[(MP_w_f['Postcode district'].str.match('M60') == False)]\n",
    "MP_w_f = MP_w_f[MP_w_f['Postcode district'] != 'M99']\n",
    "\n",
    "# Merge M3 Postcode\n",
    "# Remove post code sector information\n",
    "cleaner2 = re.compile('\\((.*?)\\)')\n",
    "MP_w_f['Postcode district'] = [re.sub(cleaner2, '', i) for i in MP_w_f['Postcode district']]\n",
    "\n",
    "# Merge columns\n",
    "MP_W = MP_w_f.groupby(by = MP_w_f['Postcode district']).aggregate(lambda x: ', '.join(x)).reset_index()"
   ]
  },
  {
   "cell_type": "markdown",
   "id": "ready-milan",
   "metadata": {},
   "source": [
    "As can be seen in the comments above some cleaning of the wikipedia table was required to produce a final dataframe of M-Postcodes (MP_W), including the removal of non-residential postcodes. Checking the ONS csv dataframe we see that the M60 and M99 postcodes also exist here. As such, they are also removed from this dataframe."
   ]
  },
  {
   "cell_type": "code",
   "execution_count": 5,
   "id": "major-devon",
   "metadata": {},
   "outputs": [],
   "source": [
    "MP_ONS = MP_ONS[MP_ONS.Postcode_District != 'M60']\n",
    "MP_ONS = MP_ONS[MP_ONS.Postcode_District != 'M99']"
   ]
  },
  {
   "cell_type": "markdown",
   "id": "sharp-conference",
   "metadata": {},
   "source": [
    "Finally, we check Wikipedia and ONS csv match, first by ensuring they have the same length and then that the sort postcode values match for all indices: "
   ]
  },
  {
   "cell_type": "code",
   "execution_count": 6,
   "id": "hired-updating",
   "metadata": {},
   "outputs": [
    {
     "data": {
      "text/plain": [
       "True"
      ]
     },
     "execution_count": 6,
     "metadata": {},
     "output_type": "execute_result"
    }
   ],
   "source": [
    "len(MP_W) == len(MP_ONS)"
   ]
  },
  {
   "cell_type": "code",
   "execution_count": 9,
   "id": "qualified-ticket",
   "metadata": {},
   "outputs": [],
   "source": [
    "MP_match = [(i, MP_W[\"Postcode district\"].sort_values().iloc[i] == MP_ONS[\"Postcode_District\"].sort_values().iloc[i]) \n",
    "            for i in range(len(MP_W))]"
   ]
  },
  {
   "cell_type": "markdown",
   "id": "suffering-shareware",
   "metadata": {},
   "source": [
    "Exploring the values for MPC match we can see the 43 Postcodes match."
   ]
  },
  {
   "cell_type": "markdown",
   "id": "useful-magnet",
   "metadata": {},
   "source": [
    "##### <b>Distance from Centre</b>\n",
    "\n",
    "The final option for determing the areas used in analysis is searching for areas with type boundary:political on OpenStreetMap using teh Overpass api Overpy."
   ]
  },
  {
   "cell_type": "code",
   "execution_count": 22,
   "id": "virtual-pierre",
   "metadata": {},
   "outputs": [],
   "source": [
    "import overpy\n",
    "\n",
    "api = overpy.Overpass()\n",
    "\n",
    "result = api.query(\"\"\"\n",
    "area[name=\"Manchester, UK\"];\n",
    "out;\n",
    "\"\"\")\n",
    "\n",
    "for area in result.areas:\n",
    "    print(\n",
    "        \"Name: %s (%i)\" % (\n",
    "            area.tags.get(\"name\", \"n/a\"),\n",
    "            area.id\n",
    "        )\n",
    "    )\n",
    "    for n, v in area.tags.items():\n",
    "        print(\"  Tag: %s = %s\" % (n, v))"
   ]
  },
  {
   "cell_type": "markdown",
   "id": "optimum-bargain",
   "metadata": {},
   "source": [
    "HERE API using url; Includes api key (NB: Key expires every 60 minutes)"
   ]
  },
  {
   "cell_type": "code",
   "execution_count": 83,
   "id": "unsigned-arnold",
   "metadata": {},
   "outputs": [],
   "source": [
    "# Get \n",
    "\n",
    "URL = 'https://geocode.search.hereapi.com/v1/geocode'\n",
    "location = 'Manchester' #taking user input\n",
    "api_key = 'vjCV6buP-fTPKKILqN6sU03PB6J6KQOp8YbbVVnB0yA' \n",
    "PARAMS = {'apikey':api_key,'q':location} \n",
    "\n",
    "# sending get request and saving the response as response object \n",
    "r = requests.get(url = URL, params = PARAMS) \n",
    "data = r.json()\n",
    "\n",
    "latitude = data['items'][0]['position']['lat']\n",
    "longitude = data['items'][0]['position']['lng']"
   ]
  },
  {
   "cell_type": "markdown",
   "id": "altered-republic",
   "metadata": {},
   "source": [
    "HERE API geopy gecoder object initialisation"
   ]
  },
  {
   "cell_type": "code",
   "execution_count": 180,
   "id": "composite-eight",
   "metadata": {},
   "outputs": [],
   "source": [
    "from geopy.geocoders import Here\n",
    "geolocator = Here(apikey=api_key)\n"
   ]
  },
  {
   "cell_type": "code",
   "execution_count": 176,
   "id": "technological-spice",
   "metadata": {
    "collapsed": true,
    "jupyter": {
     "outputs_hidden": true
    }
   },
   "outputs": [
    {
     "data": {
      "text/html": [
       "<div>\n",
       "<style scoped>\n",
       "    .dataframe tbody tr th:only-of-type {\n",
       "        vertical-align: middle;\n",
       "    }\n",
       "\n",
       "    .dataframe tbody tr th {\n",
       "        vertical-align: top;\n",
       "    }\n",
       "\n",
       "    .dataframe thead th {\n",
       "        text-align: right;\n",
       "    }\n",
       "</style>\n",
       "<table border=\"1\" class=\"dataframe\">\n",
       "  <thead>\n",
       "    <tr style=\"text-align: right;\">\n",
       "      <th></th>\n",
       "      <th>Postcode_District</th>\n",
       "      <th>Latitude</th>\n",
       "      <th>Longitude</th>\n",
       "    </tr>\n",
       "  </thead>\n",
       "  <tbody>\n",
       "    <tr>\n",
       "      <th>0</th>\n",
       "      <td>M1</td>\n",
       "      <td>53.477340</td>\n",
       "      <td>-2.235080</td>\n",
       "    </tr>\n",
       "    <tr>\n",
       "      <th>1</th>\n",
       "      <td>M11</td>\n",
       "      <td>53.478340</td>\n",
       "      <td>-2.179330</td>\n",
       "    </tr>\n",
       "    <tr>\n",
       "      <th>2</th>\n",
       "      <td>M12</td>\n",
       "      <td>53.464820</td>\n",
       "      <td>-2.201870</td>\n",
       "    </tr>\n",
       "    <tr>\n",
       "      <th>3</th>\n",
       "      <td>M13</td>\n",
       "      <td>53.460300</td>\n",
       "      <td>-2.213890</td>\n",
       "    </tr>\n",
       "    <tr>\n",
       "      <th>4</th>\n",
       "      <td>M14</td>\n",
       "      <td>53.447700</td>\n",
       "      <td>-2.224370</td>\n",
       "    </tr>\n",
       "    <tr>\n",
       "      <th>5</th>\n",
       "      <td>M15</td>\n",
       "      <td>53.465630</td>\n",
       "      <td>-2.250080</td>\n",
       "    </tr>\n",
       "    <tr>\n",
       "      <th>6</th>\n",
       "      <td>M16</td>\n",
       "      <td>53.454810</td>\n",
       "      <td>-2.263570</td>\n",
       "    </tr>\n",
       "    <tr>\n",
       "      <th>7</th>\n",
       "      <td>M17</td>\n",
       "      <td>53.469060</td>\n",
       "      <td>-2.317890</td>\n",
       "    </tr>\n",
       "    <tr>\n",
       "      <th>8</th>\n",
       "      <td>M18</td>\n",
       "      <td>53.461270</td>\n",
       "      <td>-2.168710</td>\n",
       "    </tr>\n",
       "    <tr>\n",
       "      <th>9</th>\n",
       "      <td>M19</td>\n",
       "      <td>53.436960</td>\n",
       "      <td>-2.194210</td>\n",
       "    </tr>\n",
       "    <tr>\n",
       "      <th>10</th>\n",
       "      <td>M2</td>\n",
       "      <td>53.480030</td>\n",
       "      <td>-2.242630</td>\n",
       "    </tr>\n",
       "    <tr>\n",
       "      <th>11</th>\n",
       "      <td>M20</td>\n",
       "      <td>53.425210</td>\n",
       "      <td>-2.230270</td>\n",
       "    </tr>\n",
       "    <tr>\n",
       "      <th>12</th>\n",
       "      <td>M21</td>\n",
       "      <td>53.437710</td>\n",
       "      <td>-2.270990</td>\n",
       "    </tr>\n",
       "    <tr>\n",
       "      <th>13</th>\n",
       "      <td>M22</td>\n",
       "      <td>53.385600</td>\n",
       "      <td>-2.258630</td>\n",
       "    </tr>\n",
       "    <tr>\n",
       "      <th>14</th>\n",
       "      <td>M23</td>\n",
       "      <td>53.399020</td>\n",
       "      <td>-2.287290</td>\n",
       "    </tr>\n",
       "    <tr>\n",
       "      <th>15</th>\n",
       "      <td>M24</td>\n",
       "      <td>53.551130</td>\n",
       "      <td>-2.196240</td>\n",
       "    </tr>\n",
       "    <tr>\n",
       "      <th>16</th>\n",
       "      <td>M25</td>\n",
       "      <td>53.528500</td>\n",
       "      <td>-2.274590</td>\n",
       "    </tr>\n",
       "    <tr>\n",
       "      <th>17</th>\n",
       "      <td>M26</td>\n",
       "      <td>53.561610</td>\n",
       "      <td>-2.333690</td>\n",
       "    </tr>\n",
       "    <tr>\n",
       "      <th>18</th>\n",
       "      <td>M27</td>\n",
       "      <td>53.512160</td>\n",
       "      <td>-2.336310</td>\n",
       "    </tr>\n",
       "    <tr>\n",
       "      <th>19</th>\n",
       "      <td>M28</td>\n",
       "      <td>53.514670</td>\n",
       "      <td>-2.396660</td>\n",
       "    </tr>\n",
       "    <tr>\n",
       "      <th>20</th>\n",
       "      <td>M29</td>\n",
       "      <td>53.508160</td>\n",
       "      <td>-2.456920</td>\n",
       "    </tr>\n",
       "    <tr>\n",
       "      <th>21</th>\n",
       "      <td>M3</td>\n",
       "      <td>53.483610</td>\n",
       "      <td>-2.250180</td>\n",
       "    </tr>\n",
       "    <tr>\n",
       "      <th>22</th>\n",
       "      <td>M30</td>\n",
       "      <td>53.484240</td>\n",
       "      <td>-2.354180</td>\n",
       "    </tr>\n",
       "    <tr>\n",
       "      <th>23</th>\n",
       "      <td>M31</td>\n",
       "      <td>53.419300</td>\n",
       "      <td>-2.421360</td>\n",
       "    </tr>\n",
       "    <tr>\n",
       "      <th>24</th>\n",
       "      <td>M32</td>\n",
       "      <td>53.450210</td>\n",
       "      <td>-2.308720</td>\n",
       "    </tr>\n",
       "    <tr>\n",
       "      <th>25</th>\n",
       "      <td>M33</td>\n",
       "      <td>53.420500</td>\n",
       "      <td>-2.325060</td>\n",
       "    </tr>\n",
       "    <tr>\n",
       "      <th>26</th>\n",
       "      <td>M34</td>\n",
       "      <td>53.455940</td>\n",
       "      <td>-2.117480</td>\n",
       "    </tr>\n",
       "    <tr>\n",
       "      <th>27</th>\n",
       "      <td>M35</td>\n",
       "      <td>53.507140</td>\n",
       "      <td>-2.152300</td>\n",
       "    </tr>\n",
       "    <tr>\n",
       "      <th>28</th>\n",
       "      <td>M38</td>\n",
       "      <td>53.531670</td>\n",
       "      <td>-2.420960</td>\n",
       "    </tr>\n",
       "    <tr>\n",
       "      <th>29</th>\n",
       "      <td>M4</td>\n",
       "      <td>53.484550</td>\n",
       "      <td>-2.229090</td>\n",
       "    </tr>\n",
       "    <tr>\n",
       "      <th>30</th>\n",
       "      <td>M40</td>\n",
       "      <td>53.503490</td>\n",
       "      <td>-2.189990</td>\n",
       "    </tr>\n",
       "    <tr>\n",
       "      <th>31</th>\n",
       "      <td>M41</td>\n",
       "      <td>53.450950</td>\n",
       "      <td>-2.362940</td>\n",
       "    </tr>\n",
       "    <tr>\n",
       "      <th>32</th>\n",
       "      <td>M43</td>\n",
       "      <td>53.483780</td>\n",
       "      <td>-2.147700</td>\n",
       "    </tr>\n",
       "    <tr>\n",
       "      <th>33</th>\n",
       "      <td>M44</td>\n",
       "      <td>53.440860</td>\n",
       "      <td>-2.426090</td>\n",
       "    </tr>\n",
       "    <tr>\n",
       "      <th>34</th>\n",
       "      <td>M45</td>\n",
       "      <td>53.547340</td>\n",
       "      <td>-2.288290</td>\n",
       "    </tr>\n",
       "    <tr>\n",
       "      <th>35</th>\n",
       "      <td>M46</td>\n",
       "      <td>53.526010</td>\n",
       "      <td>-2.490310</td>\n",
       "    </tr>\n",
       "    <tr>\n",
       "      <th>36</th>\n",
       "      <td>M5</td>\n",
       "      <td>53.479030</td>\n",
       "      <td>-2.284820</td>\n",
       "    </tr>\n",
       "    <tr>\n",
       "      <th>37</th>\n",
       "      <td>M6</td>\n",
       "      <td>53.491590</td>\n",
       "      <td>-2.296960</td>\n",
       "    </tr>\n",
       "    <tr>\n",
       "      <th>38</th>\n",
       "      <td>M60</td>\n",
       "      <td>53.486350</td>\n",
       "      <td>-2.227590</td>\n",
       "    </tr>\n",
       "    <tr>\n",
       "      <th>39</th>\n",
       "      <td>M7</td>\n",
       "      <td>53.505160</td>\n",
       "      <td>-2.260860</td>\n",
       "    </tr>\n",
       "    <tr>\n",
       "      <th>40</th>\n",
       "      <td>M8</td>\n",
       "      <td>53.508800</td>\n",
       "      <td>-2.238270</td>\n",
       "    </tr>\n",
       "    <tr>\n",
       "      <th>41</th>\n",
       "      <td>M9</td>\n",
       "      <td>53.521430</td>\n",
       "      <td>-2.212690</td>\n",
       "    </tr>\n",
       "    <tr>\n",
       "      <th>42</th>\n",
       "      <td>M90</td>\n",
       "      <td>53.363090</td>\n",
       "      <td>-2.276530</td>\n",
       "    </tr>\n",
       "    <tr>\n",
       "      <th>43</th>\n",
       "      <td>M50</td>\n",
       "      <td>53.479393</td>\n",
       "      <td>-2.304275</td>\n",
       "    </tr>\n",
       "    <tr>\n",
       "      <th>44</th>\n",
       "      <td>M99</td>\n",
       "      <td>53.484512</td>\n",
       "      <td>-2.234866</td>\n",
       "    </tr>\n",
       "  </tbody>\n",
       "</table>\n",
       "</div>"
      ],
      "text/plain": [
       "   Postcode_District   Latitude  Longitude\n",
       "0                 M1  53.477340  -2.235080\n",
       "1                M11  53.478340  -2.179330\n",
       "2                M12  53.464820  -2.201870\n",
       "3                M13  53.460300  -2.213890\n",
       "4                M14  53.447700  -2.224370\n",
       "5                M15  53.465630  -2.250080\n",
       "6                M16  53.454810  -2.263570\n",
       "7                M17  53.469060  -2.317890\n",
       "8                M18  53.461270  -2.168710\n",
       "9                M19  53.436960  -2.194210\n",
       "10                M2  53.480030  -2.242630\n",
       "11               M20  53.425210  -2.230270\n",
       "12               M21  53.437710  -2.270990\n",
       "13               M22  53.385600  -2.258630\n",
       "14               M23  53.399020  -2.287290\n",
       "15               M24  53.551130  -2.196240\n",
       "16               M25  53.528500  -2.274590\n",
       "17               M26  53.561610  -2.333690\n",
       "18               M27  53.512160  -2.336310\n",
       "19               M28  53.514670  -2.396660\n",
       "20               M29  53.508160  -2.456920\n",
       "21                M3  53.483610  -2.250180\n",
       "22               M30  53.484240  -2.354180\n",
       "23               M31  53.419300  -2.421360\n",
       "24               M32  53.450210  -2.308720\n",
       "25               M33  53.420500  -2.325060\n",
       "26               M34  53.455940  -2.117480\n",
       "27               M35  53.507140  -2.152300\n",
       "28               M38  53.531670  -2.420960\n",
       "29                M4  53.484550  -2.229090\n",
       "30               M40  53.503490  -2.189990\n",
       "31               M41  53.450950  -2.362940\n",
       "32               M43  53.483780  -2.147700\n",
       "33               M44  53.440860  -2.426090\n",
       "34               M45  53.547340  -2.288290\n",
       "35               M46  53.526010  -2.490310\n",
       "36                M5  53.479030  -2.284820\n",
       "37                M6  53.491590  -2.296960\n",
       "38               M60  53.486350  -2.227590\n",
       "39                M7  53.505160  -2.260860\n",
       "40                M8  53.508800  -2.238270\n",
       "41                M9  53.521430  -2.212690\n",
       "42               M90  53.363090  -2.276530\n",
       "43               M50  53.479393  -2.304275\n",
       "44               M99  53.484512  -2.234866"
      ]
     },
     "execution_count": 176,
     "metadata": {},
     "output_type": "execute_result"
    }
   ],
   "source": [
    "MP_ONS"
   ]
  },
  {
   "cell_type": "markdown",
   "id": "falling-brighton",
   "metadata": {},
   "source": [
    "Had some luck with finding postcodes with this API - this should be investigated further"
   ]
  },
  {
   "cell_type": "code",
   "execution_count": 183,
   "id": "hybrid-employee",
   "metadata": {},
   "outputs": [
    {
     "name": "stdout",
     "output_type": "stream",
     "text": [
      "M1 M1 2, Manchester, England, United Kingdom, Manchester, England M1 2, GBR\n",
      "M11 M1 1, Manchester, England, United Kingdom, Manchester, England M1 1, GBR\n",
      "M12 M1 2, Manchester, England, United Kingdom, Manchester, England M1 2, GBR\n",
      "M13 M1 3, Manchester, England, United Kingdom, Manchester, England M1 3, GBR\n",
      "M14 M1 4, Manchester, England, United Kingdom, Manchester, England M1 4, GBR\n",
      "M15 M1 5, Manchester, England, United Kingdom, Manchester, England M1 5, GBR\n",
      "M16 None\n",
      "M17 M1 7, Manchester, England, United Kingdom, Manchester, England M1 7, GBR\n",
      "M18 None\n",
      "M19 None\n",
      "M2 M2 3, Manchester, England, United Kingdom, Manchester, England M2 3, GBR\n",
      "M20 None\n",
      "M21 None\n",
      "M22 None\n",
      "M23 None\n",
      "M24 M2 4, Manchester, England, United Kingdom, Manchester, England M2 4, GBR\n",
      "M25 M2 5, Manchester, England, United Kingdom, Manchester, England M2 5, GBR\n",
      "M26 M2 6, Manchester, England, United Kingdom, Manchester, England M2 6, GBR\n",
      "M27 M2 7, Manchester, England, United Kingdom, Manchester, England M2 7, GBR\n",
      "M28 None\n",
      "M29 None\n",
      "M3 Manchester, England, United Kingdom, Manchester, England M3 3, GBR\n",
      "M30 M30 0, Manchester, England, United Kingdom, Manchester, England M30 0, GBR\n",
      "M31 None\n",
      "M32 M3 2, Manchester, England, United Kingdom, Manchester, England M3 2, GBR\n",
      "M33 M3 3, Manchester, England, United Kingdom, Manchester, England M3 3, GBR\n",
      "M34 None\n",
      "M35 None\n",
      "M38 None\n",
      "M4 M4 5, Manchester, England, United Kingdom, Manchester, England M4 5, GBR\n",
      "M40 None\n",
      "M41 M4 1, Manchester, England, United Kingdom, Manchester, England M4 1, GBR\n",
      "M43 None\n",
      "M44 M4 4, Manchester, England, United Kingdom, Manchester, England M4 4, GBR\n",
      "M45 M4 5, Manchester, England, United Kingdom, Manchester, England M4 5, GBR\n",
      "M46 M4 6, Manchester, England, United Kingdom, Manchester, England M4 6, GBR\n",
      "M5 Manchester, England, United Kingdom, Manchester, England M3 3, GBR\n",
      "M6 None\n",
      "M60 M60 0, Manchester, England, United Kingdom, Manchester, England M60 0, GBR\n",
      "M7 None\n",
      "M8 M8 4, Manchester, England, United Kingdom, Manchester, England M8 4, GBR\n",
      "M9 M9 4, Manchester, England, United Kingdom, Manchester, England M9 4, GBR\n",
      "M90 M9 0, Manchester, England, United Kingdom, Manchester, England M9 0, GBR\n",
      "M50 None\n",
      "M99 M99 2, Manchester, England, United Kingdom, Manchester, England M99 2, GBR\n"
     ]
    }
   ],
   "source": [
    "###################################33 TRY TO RUN THROUGH THIS ###################\n",
    "for PC in MP_ONS.Postcode_District:\n",
    "    print(PC, geolocator.geocode({'postalcode':PC, 'city':'Manchester'}))\n",
    "# test = [geolocator.geocode({'postalcode':PC}) for PC in MP_ONS.Postcode_District]"
   ]
  },
  {
   "cell_type": "markdown",
   "id": "instant-interpretation",
   "metadata": {},
   "source": [
    "This API is also useful for named searches"
   ]
  },
  {
   "cell_type": "code",
   "execution_count": 7,
   "id": "outstanding-myrtle",
   "metadata": {},
   "outputs": [
    {
     "data": {
      "text/plain": [
       "Location(Manchester, Greater Manchester, North West England, England, United Kingdom, (53.4794892, -2.2451148, 0.0))"
      ]
     },
     "execution_count": 7,
     "metadata": {},
     "output_type": "execute_result"
    }
   ],
   "source": [
    "geolocator.geocode('Manchester')"
   ]
  },
  {
   "cell_type": "markdown",
   "id": "owned-genesis",
   "metadata": {},
   "source": [
    "Unfortunately only one area could be found using HERE reverse method"
   ]
  },
  {
   "cell_type": "code",
   "execution_count": 110,
   "id": "adopted-milan",
   "metadata": {},
   "outputs": [
    {
     "data": {
      "text/plain": [
       "[Location(Manchester, England, United Kingdom, Manchester, England M3 3, GBR, (53.44251, -2.27656, 0.0))]"
      ]
     },
     "execution_count": 110,
     "metadata": {},
     "output_type": "execute_result"
    }
   ],
   "source": [
    "geolocator.reverse(query = (53.44251, -2.27656), exactly_one=False, radius =1000.00, mode='retrieveAreas', maxresults=5) "
   ]
  },
  {
   "cell_type": "markdown",
   "id": "african-spine",
   "metadata": {},
   "source": [
    "Nominatim API was initialised and explored"
   ]
  },
  {
   "cell_type": "code",
   "execution_count": 112,
   "id": "important-virus",
   "metadata": {},
   "outputs": [],
   "source": [
    "from geopy.geocoders import Nominatim\n",
    "geolocatorN = Nominatim(user_agent=\"aaa\")\n"
   ]
  },
  {
   "cell_type": "markdown",
   "id": "better-likelihood",
   "metadata": {},
   "source": [
    "Again only one area could be found with reverse method"
   ]
  },
  {
   "cell_type": "code",
   "execution_count": 123,
   "id": "confidential-purple",
   "metadata": {},
   "outputs": [
    {
     "data": {
      "text/plain": [
       "[Location(Wythenshawe, Manchester, Greater Manchester, North West England, England, M22 5RE, United Kingdom, (53.3803596, -2.2632079, 0.0))]"
      ]
     },
     "execution_count": 123,
     "metadata": {},
     "output_type": "execute_result"
    }
   ],
   "source": [
    "geolocatorN.reverse(query = (53.44, -2.27), exactly_one=False, zoom=12)"
   ]
  },
  {
   "cell_type": "markdown",
   "id": "expired-engagement",
   "metadata": {},
   "source": [
    "API through URL like above should be set up: Lookup method and details should be checked"
   ]
  },
  {
   "cell_type": "code",
   "execution_count": 170,
   "id": "tracked-cleaner",
   "metadata": {},
   "outputs": [],
   "source": [
    "URL = 'https://autocomplete.search.hereapi.com/v1/browse'\n",
    "location = 'Manchester' \n",
    "PARAMS = {'q':location,'at':'53.4794892,-2.2451148','apikey':api_key,'in':'circle:53.4794892,-2.2451148;r=1000000','types':'aa'}\n",
    "\n",
    "r = requests.get(url = URL, params = PARAMS) \n",
    "data = r.json()"
   ]
  },
  {
   "cell_type": "code",
   "execution_count": 186,
   "id": "interior-progress",
   "metadata": {},
   "outputs": [],
   "source": [
    "################## THIS IS GOOOOOOD\n",
    "\n",
    "URL = 'https://browse.search.hereapi.com/v1/browse'\n",
    "api_key = 'foERkdIHR5_9FKln3qpHQNWvW2auvWr63bkdfDo3DPM' \n",
    "PARAMS = {'at':'53.4794892,-2.2451148','apikey':api_key,'in':'circle:53.4794892,-2.2451148;r=50000','types':'district', 'limit':'100'} \n",
    "\n",
    "r = requests.get(url = URL, params = PARAMS) \n",
    "data = r.json()"
   ]
  },
  {
   "cell_type": "code",
   "execution_count": 191,
   "id": "heard-rabbit",
   "metadata": {},
   "outputs": [
    {
     "name": "stdout",
     "output_type": "stream",
     "text": [
      "Manchester Central, Manchester, England, United Kingdom\n",
      "Shopping District, Salford, England, United Kingdom\n",
      "China Town, Manchester, England, United Kingdom\n",
      "Spinningfields, Salford, England, United Kingdom\n",
      "The Gay Village, Manchester, England, United Kingdom\n",
      "Deansgate Locks, Manchester, England, United Kingdom\n",
      "Castlefield, Salford, England, United Kingdom\n",
      "Northern Quarter, Manchester, England, United Kingdom\n",
      "Blackfriars, Salford, England, United Kingdom\n",
      "Victoria, Manchester, England, United Kingdom\n",
      "Ancoats, Manchester, England, United Kingdom\n",
      "Piccadilly, Manchester, England, United Kingdom\n",
      "Greenquarter, Manchester, England, United Kingdom\n",
      "Hulme, Manchester, England, United Kingdom\n",
      "New Islington, Manchester, England, United Kingdom\n",
      "University District, Manchester, England, United Kingdom\n",
      "Manchester Science Park, Manchester, England, United Kingdom\n",
      "Ardwick, Manchester, England, United Kingdom\n",
      "Cheetham Hill, Salford, England, United Kingdom\n",
      "Ordsall, Salford, England, United Kingdom\n",
      "Collyhurst, Manchester, England, United Kingdom\n",
      "Manchester, England, United Kingdom\n",
      "Moss Side, Manchester, England, United Kingdom\n",
      "Pendleton, Salford, England, United Kingdom\n",
      "Beswick, Manchester, England, United Kingdom\n",
      "Miles Platting, Manchester, England, United Kingdom\n",
      "Broughton, Salford, England, United Kingdom\n",
      "Old Trafford, Manchester, England, United Kingdom\n",
      "The Curry Mile, Manchester, England, United Kingdom\n",
      "Whalley Range, Manchester, England, United Kingdom\n",
      "Salford Quays, Salford, England, United Kingdom\n",
      "Salford, England, United Kingdom\n",
      "Sportcity, Manchester, England, United Kingdom\n",
      "Rusholme, Manchester, England, United Kingdom\n",
      "Firswood, Manchester, England, United Kingdom\n",
      "MediaCityUK, Salford, England, United Kingdom\n",
      "Old Trafford, Manchester, England, United Kingdom\n",
      "Longsight, Manchester, England, United Kingdom\n",
      "Clayton, Manchester, England, United Kingdom\n",
      "Crumpsall, Manchester, England, United Kingdom\n",
      "Harpurhey, Manchester, England, United Kingdom\n",
      "Openshaw, Manchester, England, United Kingdom\n",
      "Fallowfield, Manchester, England, United Kingdom\n",
      "Trafford Park, Manchester, England, United Kingdom\n",
      "Chorlton, Manchester, England, United Kingdom\n",
      "Chorlton cum Hardy, Manchester, England, United Kingdom\n",
      "Blackley, Manchester, England, United Kingdom\n",
      "Newton Heath, Manchester, England, United Kingdom\n",
      "Moston, Manchester, England, United Kingdom\n",
      "Withington, Manchester, England, United Kingdom\n",
      "Gorton, Manchester, England, United Kingdom\n",
      "Levenshulme, Manchester, England, United Kingdom\n",
      "Ladybarn, Manchester, England, United Kingdom\n",
      "Stretford, Manchester, England, United Kingdom\n",
      "Abbey Hey, Manchester, England, United Kingdom\n",
      "Charlestown, Manchester, England, United Kingdom\n",
      "Failsworth, Manchester, England, United Kingdom\n",
      "Higher Blackley, Manchester, England, United Kingdom\n",
      "Eccles, Manchester, England, United Kingdom\n",
      "New Moston, Manchester, England, United Kingdom\n",
      "Prestwich, Manchester, England, United Kingdom\n",
      "Droylsden, Manchester, England, United Kingdom\n",
      "Burnage, Manchester, England, United Kingdom\n",
      "Didsbury, Manchester, England, United Kingdom\n",
      "intu Trafford Centre, Manchester, England, United Kingdom\n",
      "Swinton, Manchester, England, United Kingdom\n",
      "Heaton Chapel, Stockport, England, United Kingdom\n",
      "Reddish, Stockport, England, United Kingdom\n",
      "Sale, England, United Kingdom\n",
      "Audenshaw, Manchester, England, United Kingdom\n",
      "Heaton Mersey, Stockport, England, United Kingdom\n",
      "Urmston, Manchester, England, United Kingdom\n",
      "Northenden, Manchester, England, United Kingdom\n",
      "East Didsbury, Stockport, England, United Kingdom\n",
      "Wythenshawe, Manchester, England, United Kingdom\n",
      "Daisy Nook, Manchester, England, United Kingdom\n",
      "Middleton, Manchester, England, United Kingdom\n",
      "Brooklands, Sale, England, United Kingdom\n",
      "Whitefield, Manchester, England, United Kingdom\n",
      "Sharston Industrial Area, Manchester, England, United Kingdom\n",
      "Denton, Manchester, England, United Kingdom\n",
      "Hawksley Industrial Estate, Oldham, England, United Kingdom\n",
      "Worsley, Manchester, England, United Kingdom\n",
      "Unsworth, Bury, England, United Kingdom\n",
      "Baguley, Manchester, England, United Kingdom\n",
      "Gatley, Cheadle, England, United Kingdom\n",
      "Birch, Heywood, England, United Kingdom\n",
      "Bardsley, Oldham, England, United Kingdom\n",
      "Chadderton, Oldham, England, United Kingdom\n",
      "Acres, Oldham, England, United Kingdom\n",
      "Radcliffe, Manchester, England, United Kingdom\n",
      "Demmings Industrial Estate, Cheadle, England, United Kingdom\n",
      "Timperley, Altrincham, England, United Kingdom\n",
      "Bredbury, Stockport, England, United Kingdom\n",
      "Roundthorn Industrial Estate, Manchester, England, United Kingdom\n",
      "Ashton-under-Lyne, England, United Kingdom\n",
      "West Timperley, Altrincham, England, United Kingdom\n",
      "Lower Alt Hill, Ashton-under-Lyne, England, United Kingdom\n",
      "Newall Green, Manchester, England, United Kingdom\n",
      "Benchill, Manchester, England, United Kingdom\n"
     ]
    }
   ],
   "source": [
    "for sall in data['items']:\n",
    "     print(sall['title'])"
   ]
  },
  {
   "cell_type": "code",
   "execution_count": 5,
   "id": "cognitive-narrative",
   "metadata": {},
   "outputs": [],
   "source": [
    "URL = 'https://nominatim.openstreetmap.org/lookup?osm_ids=R146656,W104393803,N240109189&format=json'\n",
    "\n",
    "with urlopen(URL) as fp:\n",
    "    json = pd.read_json(fp)"
   ]
  },
  {
   "cell_type": "code",
   "execution_count": 6,
   "id": "polar-truth",
   "metadata": {},
   "outputs": [
    {
     "data": {
      "text/html": [
       "<div>\n",
       "<style scoped>\n",
       "    .dataframe tbody tr th:only-of-type {\n",
       "        vertical-align: middle;\n",
       "    }\n",
       "\n",
       "    .dataframe tbody tr th {\n",
       "        vertical-align: top;\n",
       "    }\n",
       "\n",
       "    .dataframe thead th {\n",
       "        text-align: right;\n",
       "    }\n",
       "</style>\n",
       "<table border=\"1\" class=\"dataframe\">\n",
       "  <thead>\n",
       "    <tr style=\"text-align: right;\">\n",
       "      <th></th>\n",
       "      <th>place_id</th>\n",
       "      <th>licence</th>\n",
       "      <th>osm_type</th>\n",
       "      <th>osm_id</th>\n",
       "      <th>boundingbox</th>\n",
       "      <th>lat</th>\n",
       "      <th>lon</th>\n",
       "      <th>display_name</th>\n",
       "      <th>class</th>\n",
       "      <th>type</th>\n",
       "      <th>importance</th>\n",
       "      <th>address</th>\n",
       "    </tr>\n",
       "  </thead>\n",
       "  <tbody>\n",
       "    <tr>\n",
       "      <th>0</th>\n",
       "      <td>256898587</td>\n",
       "      <td>Data © OpenStreetMap contributors, ODbL 1.0. h...</td>\n",
       "      <td>relation</td>\n",
       "      <td>146656</td>\n",
       "      <td>[53.3401044, 53.5445923, -2.3199185, -2.1468288]</td>\n",
       "      <td>53.479489</td>\n",
       "      <td>-2.245115</td>\n",
       "      <td>Manchester, Greater Manchester, North West Eng...</td>\n",
       "      <td>boundary</td>\n",
       "      <td>administrative</td>\n",
       "      <td>0.681719</td>\n",
       "      <td>{'city': 'Manchester', 'county': 'Greater Manc...</td>\n",
       "    </tr>\n",
       "    <tr>\n",
       "      <th>1</th>\n",
       "      <td>566458</td>\n",
       "      <td>Data © OpenStreetMap contributors, ODbL 1.0. h...</td>\n",
       "      <td>node</td>\n",
       "      <td>240109189</td>\n",
       "      <td>[52.3570365, 52.6770365, 13.2288599, 13.5488599]</td>\n",
       "      <td>52.517037</td>\n",
       "      <td>13.388860</td>\n",
       "      <td>Berlin, 10117, Deutschland</td>\n",
       "      <td>place</td>\n",
       "      <td>city</td>\n",
       "      <td>0.787539</td>\n",
       "      <td>{'city': 'Berlin', 'state': 'Berlin', 'postcod...</td>\n",
       "    </tr>\n",
       "  </tbody>\n",
       "</table>\n",
       "</div>"
      ],
      "text/plain": [
       "    place_id                                            licence  osm_type  \\\n",
       "0  256898587  Data © OpenStreetMap contributors, ODbL 1.0. h...  relation   \n",
       "1     566458  Data © OpenStreetMap contributors, ODbL 1.0. h...      node   \n",
       "\n",
       "      osm_id                                       boundingbox        lat  \\\n",
       "0     146656  [53.3401044, 53.5445923, -2.3199185, -2.1468288]  53.479489   \n",
       "1  240109189  [52.3570365, 52.6770365, 13.2288599, 13.5488599]  52.517037   \n",
       "\n",
       "         lon                                       display_name     class  \\\n",
       "0  -2.245115  Manchester, Greater Manchester, North West Eng...  boundary   \n",
       "1  13.388860                         Berlin, 10117, Deutschland     place   \n",
       "\n",
       "             type  importance  \\\n",
       "0  administrative    0.681719   \n",
       "1            city    0.787539   \n",
       "\n",
       "                                             address  \n",
       "0  {'city': 'Manchester', 'county': 'Greater Manc...  \n",
       "1  {'city': 'Berlin', 'state': 'Berlin', 'postcod...  "
      ]
     },
     "execution_count": 6,
     "metadata": {},
     "output_type": "execute_result"
    }
   ],
   "source": [
    "json"
   ]
  },
  {
   "cell_type": "markdown",
   "id": "maritime-round",
   "metadata": {},
   "source": [
    "### Desirability\n",
    "\n",
    "The next task will be to determine what features will be used to determine the desirabilty of the given areas. Some examples of this may be:\n",
    "* Public Transport\n",
    "* Pubs and Restaraunts\n",
    "* Green Spaces\n",
    "* Average age of community (i.e. do similar people live in the area)\n",
    "* Landmarks and points of interest (e.g Old Trafford, City of Manchester Stadium)\n",
    "* Museums and Libraries\n",
    "* Gyms and Leisure\n",
    "* Access to Healthcare"
   ]
  },
  {
   "cell_type": "code",
   "execution_count": null,
   "id": "impaired-habitat",
   "metadata": {},
   "outputs": [],
   "source": []
  },
  {
   "cell_type": "markdown",
   "id": "demanding-mount",
   "metadata": {},
   "source": [
    "## References\n",
    "\n",
    "##### 1. \n",
    "https://ilovemanchester.com/manchester-and-salford-so-whats-the-difference\n",
    "##### 2. \n",
    "https://geopunk.co.uk/council/Manchester-District-(B)\n",
    "##### 3. \n",
    "https://www.geopunk.co.uk/postcode-areas/M  #### No longer in use\n",
    "##### 4. \n",
    "https://en.wikipedia.org/wiki/Postcodes_in_the_United_Kingdom#Outward_code\n",
    "##### 5. \n",
    "postcode-outcodes.csv, Office for National Statistics licensed under the Open Government Licence v.3.0, https://www.freemaptools.com/download-uk-postcode-lat-lng.htm\n",
    "##### 6. \n",
    "https://en.wikipedia.org/wiki/M_postcode_area\n",
    "\n",
    "\n",
    "https://en.wikipedia.org/wiki/Greater_Manchester <br>\n",
    "\n",
    "https://en.wikipedia.org/wiki/Transport_in_Manchester <br>\n",
    "\n",
    "https://www.cityoftrees.org.uk/explore <br>"
   ]
  },
  {
   "cell_type": "markdown",
   "id": "external-sunset",
   "metadata": {},
   "source": [
    "[Top](#Discovering-Manchester)"
   ]
  },
  {
   "cell_type": "code",
   "execution_count": null,
   "id": "alive-video",
   "metadata": {},
   "outputs": [],
   "source": []
  }
 ],
 "metadata": {
  "kernelspec": {
   "display_name": "Python 3",
   "language": "python",
   "name": "python3"
  },
  "language_info": {
   "codemirror_mode": {
    "name": "ipython",
    "version": 3
   },
   "file_extension": ".py",
   "mimetype": "text/x-python",
   "name": "python",
   "nbconvert_exporter": "python",
   "pygments_lexer": "ipython3",
   "version": "3.8.5"
  }
 },
 "nbformat": 4,
 "nbformat_minor": 5
}
