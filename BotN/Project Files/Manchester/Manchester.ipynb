{
 "cells": [
  {
   "cell_type": "markdown",
   "id": "settled-cartoon",
   "metadata": {},
   "source": [
    "<h1><center>Discovering Manchester</center></h1>\n",
    "\n",
    "<h4><center> IBM Capstone Project - Exploring the best areas for a young professional to move to in Greater Manchester </center></h4>"
   ]
  },
  {
   "cell_type": "markdown",
   "id": "initial-bacteria",
   "metadata": {},
   "source": [
    "## [Table of Contents:](#Table-of-Contents:)\n",
    "\n",
    "* [Project Goals](#Project-Goals)\n",
    "* [Libraries](#Libraries)\n",
    "* [Data](#Data)\n",
    "    * [Areas](#Areas)\n",
    "        * [Metropolitan Districts](#Metropolitan-Districts:)\n",
    "        * [Wards](#Wards:)\n",
    "        * [Postcodes](#Postcodes:)\n",
    "        * [Distance from Centre](#Distance-from-Centre)\n",
    "    * [Desirability](#Desirability)\n",
    "* [References](#References)"
   ]
  },
  {
   "cell_type": "markdown",
   "id": "potential-coupon",
   "metadata": {},
   "source": [
    "## Project Goals \n",
    "\n",
    "This project seeks to analyse areas of Greater Manchester and seeks to answer the question; where are be the best locations for a young professional to move to?\n",
    "\n",
    "This notebook shows my thought process and approach to this project and the avenues I have explored in trying to reach my ultimate goal of area comparison in Manchester, as such some of these sections could be removed to add readability and make the notebook much more concise and clean."
   ]
  },
  {
   "cell_type": "markdown",
   "id": "authentic-customer",
   "metadata": {},
   "source": [
    "## Libraries\n",
    "\n",
    "The following libraries have been used in this project:"
   ]
  },
  {
   "cell_type": "code",
   "execution_count": 179,
   "id": "mechanical-fluid",
   "metadata": {},
   "outputs": [],
   "source": [
    "import pandas as pd\n",
    "import numpy as np\n",
    "from bs4 import BeautifulSoup\n",
    "from urllib.request import urlopen\n",
    "import re\n",
    "from geopy.geocoders import Here\n",
    "import folium\n",
    "import requests"
   ]
  },
  {
   "cell_type": "markdown",
   "id": "agricultural-museum",
   "metadata": {},
   "source": [
    "## Data\n",
    "\n",
    "### Areas\n",
    "\n",
    "The first task in this project is to determine how the areas of Greater Manchester will be divided.\n",
    "\n",
    "Manchester is somewhat difficult to divide into clearly defined areas for historical reasons. Areas {EXPAND ON THIS}!!!!!!!!!!!!!!!!!!!!!!!  <sup>[1](#1.)</sup>\n",
    "\n",
    "The following options were considered:\n",
    "\n",
    "#### <b>Metropolitan Districts:</b><br>\n",
    "\n",
    "Greater Manchester comprises of ten metropolitan areas:\n",
    "1. City of Manchester\n",
    "2. Stockport\n",
    "3. Tameside\n",
    "4. Oldham\n",
    "5. Rochdale\n",
    "6. Bury\n",
    "7. Bolton\n",
    "8. Wigan\n",
    "9. City of Salford\n",
    "10. Trafford\n",
    "\n",
    "<figure>\n",
    "<img src=\"images/Greater_Manchester_numbered_districts.svg.png\" style=\"width:500px;height:300px;\">\n",
    "<figcaption>Image 2: Greater Manchester metropolitan districts. Source: Wikipedia.</figcaption>\n",
    "</figure>\n",
    "<br>\n",
    "\n",
    "PLACE SOME OBSERVATIONS HERE<br>\n",
    "<br>\n",
    "\n",
    "#### <b>Wards:</b><br>\n",
    "\n",
    "The City of Manchester countains contain 32 Wards<sup>[2](#2.)</sup>:\n",
    "\n",
    "<figure>\n",
    "<img src=\"Images/Ward-Map-Manchester_District_(B).jpg\" style=\"width:500px;height:500px;\">\n",
    "<figcaption>Image 2: Greater Manchester metropolitan districts. Source: Wikipedia.</figcaption>\n",
    "</figure>\n",
    "<br>\n",
    "\n",
    "PLACE SOME OBSERVATIONS HERE<br>\n",
    "<br>\n"
   ]
  },
  {
   "cell_type": "markdown",
   "id": "mobile-employee",
   "metadata": {},
   "source": [
    "#### <b>Postcodes</b>:\n",
    "\n",
    "\n",
    "Postcodes in the United Kingdom include a outward and an inward code. <br>\n",
    "The outward code comprised of a postcode area, a one or two letter code, and a postcode district, one or two digits or a digit followed by a letter. For example, Machester city centre has the outward postal code M1.<br>\n",
    "The inward code comprises of a single digit postcode sector followed by a two character postcode unit. A postal code may be a single street, or even a single building or organisation.<sup>[4](#4.)</sup>\n",
    "\n",
    "\n",
    "<figure>\n",
    "<img src=\"images/map-postcode-area-M-Manchester.jpg\" style=\"width:500px;height:300px;\">\n",
    "<figcaption>Image 2: M-Postcode districts. Source: Geopunk</figcaption>\n",
    "</figure>\n",
    "\n",
    "While inner codes seem to be far too precise for this project's aims, outer codes with the M prefix seem to give good coverage of Greater Manchester while remaining precise enough to give locally defined areas. This is explored below, details on how this is acheived is noted in further detail the comments.\n",
    "\n",
    "Unfortunately, Geopy was unable to find locations using only outer code of Postcodes. A CSV  for postcode outcode coordinates in the format of id, postcode, latitude, longitude was found from the Office of National Statistics (ONS) <sup>[5](#5.)</sup> on [free map tools](https://www.freemaptools.com/download-uk-postcode-lat-lng.htm) and used for geographical co-ordinates instead. Initially, Geopunk was scraped for postcode information, however once it was compared to this CSV it was found that many postcodes were missing from the Geopunk source. The csv file alone will be used for all postcode district geographical information as it is considerably easier to work with and any extra work to scrape websites or search for geographical co-ordinates with Geopy is superfluous.\n",
    "\n",
    "The orignal code for scraping geopunks website and using Geopy for is left below for reference of the first method acheived for geographical location. It has been changed to a Markdown cell to save computational time and can be viewed in the dropdown below."
   ]
  },
  {
   "cell_type": "markdown",
   "id": "innovative-procurement",
   "metadata": {},
   "source": [
    "<details>\n",
    "<summary>Old code</summary>\n",
    "\n",
    "```python\n",
    "\n",
    "# Scrape geopunk for M-Postcode list\n",
    "\n",
    "# open site to bs4 object\n",
    "with urlopen(\"https://geopunk.co.uk/postcode-areas/M\") as fp:\n",
    "    soup = BeautifulSoup(fp)\n",
    "\n",
    "# Extract list as result set.\n",
    "# Note the list of postcodes are in links on the website so first all links are extracted.\n",
    "res_set = soup.find('a').find_all('a')\n",
    "\n",
    "# Next the text form the links is converted to a list; a pattern match function has been added to the list comprehension so only 'Mx' \n",
    "# Postcodes have been extracted.\n",
    "\n",
    "#Search for postcodes beginning with M then a digit\n",
    "pattern1 = re.compile(\"M\\d\")\n",
    "\n",
    "#Search for postcodes with a space to make distinction between full and partial post codes\n",
    "pattern2 = re.compile(\" \")\n",
    "\n",
    "# Create DataFrame (list name is old syntax)\n",
    "list_PC = pd.DataFrame([link.text for link in res_set if (pattern1.match(link.text) is not None) and (pattern2.search(link.text) is None)],\n",
    "                      columns = ['Postcode_District'])\n",
    "\n",
    "# Obtain geographical information using geopy (method1)\n",
    "MCR_geo1 = [geolocator.geocode({'postalcode':PC, 'city':'Manchester','country':'United Kingdom'}) for PC in list_PC.Postcode_District]\n",
    "\n",
    "# Obtain geographical information using geopy (method2)\n",
    "MCR_geo2 = [geolocator.geocode('{}, Manchester, United Kingdom'.format(PC)) for PC in list_PC.Postcode_District]\n",
    "\n",
    "```\n",
    "\n",
    "Neither of these methods provided sufficient results for the geographical locations of the postcodes. Further inspection of Nominatim.openstreetmap showed very little mention of postcodes in the Manchester area so this method of obtaining geographical coordinates was abandoned.\n",
    "    \n",
    "</details>"
   ]
  },
  {
   "cell_type": "markdown",
   "id": "early-diving",
   "metadata": {},
   "source": [
    "Geographical coordinates for the M-Postcode Districts extracted from the postcode outcodes ONS csv file and loaded into a DataFrame."
   ]
  },
  {
   "cell_type": "code",
   "execution_count": 2,
   "id": "hollywood-burke",
   "metadata": {},
   "outputs": [],
   "source": [
    "# Get DataFrame of all UK Postcodes. Note there is some kwargs passed for formatting purposes and ease of use.\n",
    "UK_PC = pd.read_csv('https://www.freemaptools.com/download/outcode-postcodes/postcode-outcodes.csv', usecols=[1,2,3], \n",
    "                    header = 0, names = ['Postcode_District', 'Latitude','Longitude'])\n",
    "\n",
    "# Extract M- only postcodes\n",
    "MP_ONS = UK_PC.loc[UK_PC.Postcode_District.str.match('M\\d')].reset_index(drop=True)\n",
    "\n",
    "# Drop Non geographic postcode M61 - See link 5\n",
    "MP_ONS = MP_ONS[MP_ONS.Postcode_District != 'M61']"
   ]
  },
  {
   "cell_type": "markdown",
   "id": "current-volunteer",
   "metadata": {},
   "source": [
    "This list of postcodes is compared to Wikipedia's [M postcode area](https://en.wikipedia.org/wiki/M_postcode_area)<sup>[6](#6.)</sup> page to ensure no postcodes are missing."
   ]
  },
  {
   "cell_type": "markdown",
   "id": "loving-minister",
   "metadata": {},
   "source": [
    "Extract postcodes from Wikipedia:"
   ]
  },
  {
   "cell_type": "code",
   "execution_count": 3,
   "id": "governmental-carrier",
   "metadata": {},
   "outputs": [],
   "source": [
    "with urlopen(\"https://en.wikipedia.org/wiki/M_postcode_area\") as fp:\n",
    "    soup = BeautifulSoup(fp)"
   ]
  },
  {
   "cell_type": "code",
   "execution_count": 4,
   "id": "suburban-commerce",
   "metadata": {},
   "outputs": [],
   "source": [
    "res_set = soup.find_all('table')\n",
    "res_set\n",
    "\n",
    "# Define function for converting html to list\n",
    "def cleanhtml(raw_html):\n",
    "    cleaner = re.compile('<.*?>')\n",
    "    text = re.sub(cleaner, '', str(raw_html)).splitlines()\n",
    "    return list(filter(None, text))\n",
    "\n",
    "# further cleaning of list and conversion to Pandas df\n",
    "table = [cleanhtml(row) for row in res_set][1]\n",
    "table = np.array(table).reshape(len(table)//4,4)\n",
    "MP_w_f = pd.DataFrame(table, columns = table[0])\n",
    "MP_w_f = MP_w_f.drop(MP_w_f.index[0])\n",
    "\n",
    "# Drop Non geographic postcode M61 - See link 5\n",
    "MP_w_f = MP_w_f[MP_w_f['Postcode district'] != 'M61']\n",
    "\n",
    "# We can also see in the dataframe that M60 and M99 are non-residential so are also dropped\n",
    "MP_w_f = MP_w_f[(MP_w_f['Postcode district'].str.match('M60') == False)]\n",
    "MP_w_f = MP_w_f[MP_w_f['Postcode district'] != 'M99']\n",
    "\n",
    "# Merge M3 Postcode\n",
    "# Remove post code sector information\n",
    "cleaner2 = re.compile('\\((.*?)\\)')\n",
    "MP_w_f['Postcode district'] = [re.sub(cleaner2, '', i) for i in MP_w_f['Postcode district']]\n",
    "\n",
    "# Merge columns\n",
    "MP_W = MP_w_f.groupby(by = MP_w_f['Postcode district']).aggregate(lambda x: ', '.join(x)).reset_index()"
   ]
  },
  {
   "cell_type": "markdown",
   "id": "bizarre-leeds",
   "metadata": {},
   "source": [
    "As can be seen in the comments above some cleaning of the wikipedia table was required to produce a final dataframe of M-Postcodes (MP_W), including the removal of non-residential postcodes. Checking the ONS csv dataframe we see that the M60 and M99 postcodes also exist here. As such, they are also removed from this dataframe."
   ]
  },
  {
   "cell_type": "code",
   "execution_count": 5,
   "id": "coordinated-design",
   "metadata": {},
   "outputs": [],
   "source": [
    "MP_ONS = MP_ONS[MP_ONS.Postcode_District != 'M60']\n",
    "MP_ONS = MP_ONS[MP_ONS.Postcode_District != 'M99']"
   ]
  },
  {
   "cell_type": "markdown",
   "id": "bacterial-motorcycle",
   "metadata": {},
   "source": [
    "Finally, we check Wikipedia and ONS csv match, first by ensuring they have the same length and then that the sort postcode values match for all indices: "
   ]
  },
  {
   "cell_type": "code",
   "execution_count": 6,
   "id": "bearing-hayes",
   "metadata": {},
   "outputs": [
    {
     "data": {
      "text/plain": [
       "True"
      ]
     },
     "execution_count": 6,
     "metadata": {},
     "output_type": "execute_result"
    }
   ],
   "source": [
    "len(MP_W) == len(MP_ONS)"
   ]
  },
  {
   "cell_type": "code",
   "execution_count": 9,
   "id": "closing-bradley",
   "metadata": {},
   "outputs": [],
   "source": [
    "MP_match = [(i, MP_W[\"Postcode district\"].sort_values().iloc[i] == MP_ONS[\"Postcode_District\"].sort_values().iloc[i]) \n",
    "            for i in range(len(MP_W))]"
   ]
  },
  {
   "cell_type": "markdown",
   "id": "green-storage",
   "metadata": {},
   "source": [
    "Exploring the values for MPC match we can see the 43 Postcodes match."
   ]
  },
  {
   "cell_type": "markdown",
   "id": "false-criticism",
   "metadata": {},
   "source": [
    "#### <b>Nearby 'districts'</b>\n",
    "\n",
    "The final option for determing the areas used in analysis is searching for areas using the HERE api. All areas with the type 'district' whithin 10km of the centre of Manchester were found (88 districts). Note, the definition of districts here may be loosely defined. "
   ]
  },
  {
   "cell_type": "code",
   "execution_count": 205,
   "id": "indirect-biotechnology",
   "metadata": {},
   "outputs": [],
   "source": [
    "# Find geographical coordinates of Manchester using HERE API (loaded at beginning of Notebook)\n",
    "\n",
    "api_key = 'E0EbL5Oyj1o4hpQb53JH_cRbt4T2yRBErRGbZHpe_sg' \n",
    "geolocator = Here(apikey=api_key)\n",
    "m_loc = geolocator.geocode('Manchester')\n",
    "m_lat = m_loc.latitude\n",
    "m_lng = m_loc.longitude"
   ]
  },
  {
   "cell_type": "code",
   "execution_count": 206,
   "id": "empty-flour",
   "metadata": {},
   "outputs": [],
   "source": [
    "# A set of search parameters (PARAMS) are passed to the browse endpoint (URL), note the API key generated expires after one hour\n",
    "URL = 'https://browse.search.hereapi.com/v1/browse'\n",
    "api_key = 'E0EbL5Oyj1o4hpQb53JH_cRbt4T2yRBErRGbZHpe_sg' \n",
    "PARAMS = {'at':str(m_lat)+','+str(m_lng),'apikey':api_key,'in':'circle:53.4794892,-2.2451148;r=10000','types':'district', 'limit':'100'} \n",
    "\n",
    "r = requests.get(url = URL, params = PARAMS) \n",
    "data = r.json()"
   ]
  },
  {
   "cell_type": "markdown",
   "id": "higher-stick",
   "metadata": {},
   "source": [
    "The data object (dict) contains a lot of useful information, for now we are only interested in the name of the district, the geogrpaphical location and the distance from the centre of Manchester so we extract them."
   ]
  },
  {
   "cell_type": "code",
   "execution_count": 207,
   "id": "suburban-windsor",
   "metadata": {},
   "outputs": [],
   "source": [
    "M_dist = pd.DataFrame([[item['title'].split(',')[0],item['position']['lat'],item['position']['lng'],item['distance']] for item in data['items']],\n",
    "                        columns = ['District', 'Latitude','Longitude','Distance'])"
   ]
  },
  {
   "cell_type": "code",
   "execution_count": 208,
   "id": "linear-simon",
   "metadata": {},
   "outputs": [
    {
     "data": {
      "text/html": [
       "<div>\n",
       "<style scoped>\n",
       "    .dataframe tbody tr th:only-of-type {\n",
       "        vertical-align: middle;\n",
       "    }\n",
       "\n",
       "    .dataframe tbody tr th {\n",
       "        vertical-align: top;\n",
       "    }\n",
       "\n",
       "    .dataframe thead th {\n",
       "        text-align: right;\n",
       "    }\n",
       "</style>\n",
       "<table border=\"1\" class=\"dataframe\">\n",
       "  <thead>\n",
       "    <tr style=\"text-align: right;\">\n",
       "      <th></th>\n",
       "      <th>District</th>\n",
       "      <th>Latitude</th>\n",
       "      <th>Longitude</th>\n",
       "      <th>Distance</th>\n",
       "    </tr>\n",
       "  </thead>\n",
       "  <tbody>\n",
       "    <tr>\n",
       "      <th>0</th>\n",
       "      <td>Spinningfields</td>\n",
       "      <td>53.48068</td>\n",
       "      <td>-2.25242</td>\n",
       "      <td>272</td>\n",
       "    </tr>\n",
       "    <tr>\n",
       "      <th>1</th>\n",
       "      <td>Shopping District</td>\n",
       "      <td>53.48216</td>\n",
       "      <td>-2.24574</td>\n",
       "      <td>347</td>\n",
       "    </tr>\n",
       "    <tr>\n",
       "      <th>2</th>\n",
       "      <td>Manchester Central</td>\n",
       "      <td>53.47720</td>\n",
       "      <td>-2.24447</td>\n",
       "      <td>389</td>\n",
       "    </tr>\n",
       "    <tr>\n",
       "      <th>3</th>\n",
       "      <td>China Town</td>\n",
       "      <td>53.47888</td>\n",
       "      <td>-2.23971</td>\n",
       "      <td>603</td>\n",
       "    </tr>\n",
       "    <tr>\n",
       "      <th>4</th>\n",
       "      <td>Castlefield</td>\n",
       "      <td>53.47648</td>\n",
       "      <td>-2.25666</td>\n",
       "      <td>629</td>\n",
       "    </tr>\n",
       "    <tr>\n",
       "      <th>...</th>\n",
       "      <td>...</td>\n",
       "      <td>...</td>\n",
       "      <td>...</td>\n",
       "      <td>...</td>\n",
       "    </tr>\n",
       "    <tr>\n",
       "      <th>83</th>\n",
       "      <td>Denton</td>\n",
       "      <td>53.45601</td>\n",
       "      <td>-2.11368</td>\n",
       "      <td>9317</td>\n",
       "    </tr>\n",
       "    <tr>\n",
       "      <th>84</th>\n",
       "      <td>Hawksley Industrial Estate</td>\n",
       "      <td>53.52900</td>\n",
       "      <td>-2.13440</td>\n",
       "      <td>9346</td>\n",
       "    </tr>\n",
       "    <tr>\n",
       "      <th>85</th>\n",
       "      <td>Gatley</td>\n",
       "      <td>53.39264</td>\n",
       "      <td>-2.23507</td>\n",
       "      <td>9712</td>\n",
       "    </tr>\n",
       "    <tr>\n",
       "      <th>86</th>\n",
       "      <td>Birch</td>\n",
       "      <td>53.56602</td>\n",
       "      <td>-2.22444</td>\n",
       "      <td>9743</td>\n",
       "    </tr>\n",
       "    <tr>\n",
       "      <th>87</th>\n",
       "      <td>Bardsley</td>\n",
       "      <td>53.51446</td>\n",
       "      <td>-2.10784</td>\n",
       "      <td>10094</td>\n",
       "    </tr>\n",
       "  </tbody>\n",
       "</table>\n",
       "<p>88 rows × 4 columns</p>\n",
       "</div>"
      ],
      "text/plain": [
       "                      District  Latitude  Longitude  Distance\n",
       "0               Spinningfields  53.48068   -2.25242       272\n",
       "1            Shopping District  53.48216   -2.24574       347\n",
       "2           Manchester Central  53.47720   -2.24447       389\n",
       "3                   China Town  53.47888   -2.23971       603\n",
       "4                  Castlefield  53.47648   -2.25666       629\n",
       "..                         ...       ...        ...       ...\n",
       "83                      Denton  53.45601   -2.11368      9317\n",
       "84  Hawksley Industrial Estate  53.52900   -2.13440      9346\n",
       "85                      Gatley  53.39264   -2.23507      9712\n",
       "86                       Birch  53.56602   -2.22444      9743\n",
       "87                    Bardsley  53.51446   -2.10784     10094\n",
       "\n",
       "[88 rows x 4 columns]"
      ]
     },
     "execution_count": 208,
     "metadata": {},
     "output_type": "execute_result"
    }
   ],
   "source": [
    "M_dist"
   ]
  },
  {
   "cell_type": "markdown",
   "id": "vanilla-alert",
   "metadata": {},
   "source": [
    "### Desirability\n",
    "\n",
    "The next task will be to determine what features will be used to determine the desirabilty of the given areas. Some examples of this may be:\n",
    "* Public Transport\n",
    "* Pubs and Restaraunts\n",
    "* Green Spaces\n",
    "* Average age of community (i.e. do similar people live in the area)\n",
    "* Landmarks and points of interest (e.g Old Trafford, City of Manchester Stadium)\n",
    "* Museums and Libraries\n",
    "* Gyms and Leisure\n",
    "* Access to Healthcare"
   ]
  },
  {
   "cell_type": "code",
   "execution_count": null,
   "id": "smart-botswana",
   "metadata": {},
   "outputs": [],
   "source": []
  },
  {
   "cell_type": "markdown",
   "id": "closing-vatican",
   "metadata": {},
   "source": [
    "## References\n",
    "\n",
    "##### 1. \n",
    "https://ilovemanchester.com/manchester-and-salford-so-whats-the-difference\n",
    "##### 2. \n",
    "https://geopunk.co.uk/council/Manchester-District-(B)\n",
    "##### 3. \n",
    "https://www.geopunk.co.uk/postcode-areas/M  #### No longer in use\n",
    "##### 4. \n",
    "https://en.wikipedia.org/wiki/Postcodes_in_the_United_Kingdom#Outward_code\n",
    "##### 5. \n",
    "postcode-outcodes.csv, Office for National Statistics licensed under the Open Government Licence v.3.0, https://www.freemaptools.com/download-uk-postcode-lat-lng.htm\n",
    "##### 6. \n",
    "https://en.wikipedia.org/wiki/M_postcode_area\n",
    "\n",
    "developer.here.com\n",
    "\n",
    "\n",
    "\n",
    "\n",
    "https://en.wikipedia.org/wiki/Greater_Manchester <br>\n",
    "\n",
    "https://en.wikipedia.org/wiki/Transport_in_Manchester <br>\n",
    "\n",
    "https://www.cityoftrees.org.uk/explore <br>"
   ]
  },
  {
   "cell_type": "markdown",
   "id": "turned-elements",
   "metadata": {},
   "source": [
    "[Top](#Discovering-Manchester)"
   ]
  }
 ],
 "metadata": {
  "kernelspec": {
   "display_name": "Python 3",
   "language": "python",
   "name": "python3"
  },
  "language_info": {
   "codemirror_mode": {
    "name": "ipython",
    "version": 3
   },
   "file_extension": ".py",
   "mimetype": "text/x-python",
   "name": "python",
   "nbconvert_exporter": "python",
   "pygments_lexer": "ipython3",
   "version": "3.8.5"
  }
 },
 "nbformat": 4,
 "nbformat_minor": 5
}
